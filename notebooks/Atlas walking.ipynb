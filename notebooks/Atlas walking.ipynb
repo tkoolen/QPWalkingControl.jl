{
 "cells": [
  {
   "cell_type": "code",
   "execution_count": null,
   "metadata": {},
   "outputs": [],
   "source": [
    "using Pkg\n",
    "Pkg.activate(joinpath(@__DIR__, \"..\"))\n",
    "Pkg.instantiate()"
   ]
  },
  {
   "cell_type": "code",
   "execution_count": null,
   "metadata": {},
   "outputs": [],
   "source": [
    "using LinearAlgebra\n",
    "using QPControl\n",
    "using QPControl.Trajectories\n",
    "using RigidBodyDynamics\n",
    "using RigidBodyDynamics.PDControl\n",
    "using RigidBodyDynamics.Contact\n",
    "using StaticArrays\n",
    "using AtlasRobot\n",
    "using Test\n",
    "using RigidBodySim\n",
    "using MathOptInterface\n",
    "using OSQP.MathOptInterfaceOSQP: OSQPSettings\n",
    "const MOI = MathOptInterface\n",
    "using OSQP\n",
    "using QPWalkingControl\n",
    "using PlanarConvexHulls\n",
    "using Rotations\n",
    "import GeometryTypes\n",
    "using GeometryTypes: Vec, HyperRectangle, Point\n",
    "BLAS.set_num_threads(1)"
   ]
  },
  {
   "cell_type": "code",
   "execution_count": null,
   "metadata": {},
   "outputs": [],
   "source": [
    "urdf = AtlasRobot.urdfpath()\n",
    "mechanism = parse_urdf(urdf, floating=true)\n",
    "\n",
    "# foot contact information\n",
    "foot_points = AtlasRobot.foot_contact_points(mechanism)\n",
    "foot_collision_elements = CollisionElement[]\n",
    "for (bodyid, points) in foot_points\n",
    "    body = findbody(mechanism, bodyid)\n",
    "    for point in points\n",
    "        push!(foot_collision_elements, CollisionElement(body, point.frame, Point(point.v)))\n",
    "    end\n",
    "end\n",
    "soleframes = AtlasRobot.add_sole_frames!(mechanism)\n",
    "foot_polygons = make_foot_polygons(mechanism, soleframes, foot_points; num_extreme_points=4);\n",
    "\n",
    "# environment contact information\n",
    "# environment = CollisionElement[\n",
    "#     CollisionElement(root_body(mechanism), root_frame(mechanism), HalfSpace(SVector(0., 0., 1.), 0.0))\n",
    "# ]\n",
    "ground_frame = CartesianFrame3D(\"ground\")\n",
    "frame_height = -1.0\n",
    "ground_to_root = Transform3D(ground_frame, root_frame(mechanism), SVector(0., 0., frame_height))\n",
    "add_frame!(root_body(mechanism), ground_to_root)\n",
    "robot_height_delta = -0.5\n",
    "plane_height = -frame_height + robot_height_delta\n",
    "dx, dy, dz = 5.0, 1.0, 2.0\n",
    "ground = HyperRectangle(Vec(-1.0, -dy/2, plane_height - dz), Vec(dx, dy, dz))\n",
    "environment = CollisionElement[\n",
    "    CollisionElement(root_body(mechanism), ground_frame, ground)\n",
    "]\n",
    "\n",
    "# body lookup\n",
    "feet = findbody.(Ref(mechanism), [\"l_foot\", \"r_foot\"])\n",
    "pelvis = findbody(mechanism, \"pelvis\");\n",
    "\n",
    "# contact model\n",
    "contact_model = ContactModel()\n",
    "push!(contact_model, foot_collision_elements)\n",
    "push!(contact_model, environment)\n",
    "normal_model = hunt_crossley_hertz(; k=500e3)\n",
    "# k_tangential = 20e3\n",
    "# b_tangential = 2 * sqrt(k_tangential * mass(mechanism) / 10)\n",
    "# tangential_model = ViscoelasticCoulombModel(0.8, k_tangential, b_tangential)\n",
    "tangential_model = ViscoelasticCoulombModel(0.8, 20e3, 100.)\n",
    "contact_force_model = SplitContactForceModel(normal_model, tangential_model)\n",
    "set_contact_force_model!(contact_model, foot_collision_elements, environment, contact_force_model);"
   ]
  },
  {
   "cell_type": "code",
   "execution_count": null,
   "metadata": {},
   "outputs": [],
   "source": [
    "# create low level controller\n",
    "lowlevel = let\n",
    "    optimizer = OSQP.Optimizer()\n",
    "    MOI.set(optimizer, OSQPSettings.Verbose(), false)\n",
    "    MOI.set(optimizer, OSQPSettings.EpsAbs(), 1e-5)\n",
    "    MOI.set(optimizer, OSQPSettings.EpsRel(), 1e-5)\n",
    "    MOI.set(optimizer, OSQPSettings.MaxIter(), 5000)\n",
    "    MOI.set(optimizer, OSQPSettings.AdaptiveRhoInterval(), 25) # required for deterministic behavior\n",
    "    lowlevel = MomentumBasedController{4}(mechanism, optimizer,\n",
    "        floatingjoint = findjoint(mechanism, \"pelvis_to_world\"));\n",
    "    for (bodyid, points) in foot_points\n",
    "        body = findbody(mechanism, bodyid)\n",
    "        for point in points\n",
    "            normal = FreeVector3D(default_frame(body), 0.0, 0.0, 1.0)\n",
    "            μ = contact_force_model.tangential.μ\n",
    "            contact = addcontact!(lowlevel, body, point, normal, μ)\n",
    "            contact.maxnormalforce[] = 1e6 # TODO\n",
    "            contact.weight[] = 1e-3\n",
    "        end\n",
    "    end\n",
    "    lowlevel\n",
    "end;"
   ]
  },
  {
   "cell_type": "code",
   "execution_count": null,
   "metadata": {},
   "outputs": [],
   "source": [
    "nominalstate = MechanismState(mechanism)\n",
    "AtlasRobot.setnominal!(nominalstate)"
   ]
  },
  {
   "cell_type": "code",
   "execution_count": null,
   "metadata": {},
   "outputs": [],
   "source": [
    "floating_joint = first(joints(mechanism))\n",
    "configuration(nominalstate, floating_joint)[end] += robot_height_delta;"
   ]
  },
  {
   "cell_type": "code",
   "execution_count": null,
   "metadata": {},
   "outputs": [],
   "source": [
    "# ICP stuff\n",
    "zdes = center_of_mass(nominalstate).v[3] - 0.05\n",
    "gz = norm(mechanism.gravitational_acceleration)\n",
    "ω = sqrt(gz / zdes)\n",
    "icptraj = let\n",
    "    optimizer = OSQP.Optimizer()\n",
    "    MOI.set(optimizer, OSQPSettings.Verbose(), false)\n",
    "    MOI.set(optimizer, OSQPSettings.EpsAbs(), 1e-6)\n",
    "    MOI.set(optimizer, OSQPSettings.EpsRel(), 1e-8)\n",
    "    MOI.set(optimizer, OSQPSettings.MaxIter(), 10000)\n",
    "    MOI.set(optimizer, OSQPSettings.AdaptiveRhoInterval(), 25) # required for deterministic behavior\n",
    "    max_polygon_sides = 6 # TODO\n",
    "    num_segments = 15\n",
    "    ICPTrajectoryGenerator{Float64, max_polygon_sides}(optimizer, num_segments, ω)\n",
    "end\n",
    "linear_momentum_controller = ICPController(mechanism, icptraj, zdes);"
   ]
  },
  {
   "cell_type": "code",
   "execution_count": null,
   "metadata": {},
   "outputs": [],
   "source": [
    "# walking state machine\n",
    "statemachine = let\n",
    "    contacts = Dict(BodyID(body) => contact for (body, contact) in lowlevel.contacts)\n",
    "    ICPWalkingStateMachine(mechanism, contacts, icptraj)\n",
    "end;"
   ]
  },
  {
   "cell_type": "code",
   "execution_count": null,
   "metadata": {},
   "outputs": [],
   "source": [
    "QPWalkingControl.init_footstep_plan!(statemachine, nominalstate, foot_polygons);"
   ]
  },
  {
   "cell_type": "code",
   "execution_count": null,
   "metadata": {},
   "outputs": [],
   "source": [
    "# create high level controller\n",
    "controller = HumanoidQPController(lowlevel, pelvis, nominalstate, \n",
    "    statemachine, collect(values(statemachine.end_effector_controllers)), linear_momentum_controller);"
   ]
  },
  {
   "cell_type": "code",
   "execution_count": null,
   "metadata": {},
   "outputs": [],
   "source": [
    "# create visualizer\n",
    "using MeshCat\n",
    "using MeshCatMechanisms\n",
    "using MechanismGeometries\n",
    "\n",
    "if !(@isdefined gui) || !any(isopen, RigidBodySim.Visualization.mechanism_visualizer(gui.visualizer).visualizer.core.scope.pool.connections)\n",
    "    pushapplier = PushApplier(mechanism, Point3D(default_frame(pelvis), 0.0, 0.0, 0.0))\n",
    "    link_colors = Dict(map(foot -> string(foot) => RGBA(0.7f0, 0.7f0, 0.7f0, 0.3f0), feet))\n",
    "    visuals = URDFVisuals(AtlasRobot.urdfpath(); package_path=[AtlasRobot.packagepath()], link_colors=link_colors)\n",
    "    vis = Visualizer()\n",
    "    mvis = MechanismVisualizer(mechanism, visuals, vis)\n",
    "    setelement!(mvis, ground_frame, ground)\n",
    "    pvis = PushRecoveryVisualizer(mvis)\n",
    "    gui = GUI(pvis, usernode=Widget(pushapplier, max_force=100.0, max_Δt=0.3))\n",
    "    open(gui)\n",
    "end\n",
    "copyto!(gui.visualizer, nominalstate);"
   ]
  },
  {
   "cell_type": "code",
   "execution_count": null,
   "metadata": {},
   "outputs": [],
   "source": [
    "# create ODEProblem\n",
    "state = MechanismState(mechanism)\n",
    "copyto!(state, nominalstate)\n",
    "Δt = 1 / 500\n",
    "pcontroller = PeriodicController(similar(velocity(state)), Δt, controller)\n",
    "damping = JointDamping{Float64}(mechanism, AtlasRobot.urdfpath())\n",
    "dynamics = Dynamics(\n",
    "    mechanism, \n",
    "    SumController(similar(velocity(state)), (pcontroller, damping, pushapplier));\n",
    "    contact_model=contact_model)\n",
    "callback = CallbackSet(RealtimeRateLimiter(poll_interval=pi / 100), CallbackSet(gui; max_fps=60))\n",
    "# callback = CallbackSet(gui; max_fps=30)\n",
    "tspan = (0., 18.)\n",
    "contact_state = SoftContactState(contact_model)\n",
    "problem = ODEProblem(dynamics, (state, contact_state), tspan)#; callback=callback)"
   ]
  },
  {
   "cell_type": "code",
   "execution_count": null,
   "metadata": {},
   "outputs": [],
   "source": [
    "# using BenchmarkTools\n",
    "# τ = similar(velocity(nominalstate))\n",
    "# @btime $controller($τ, 0.0, $nominalstate) # 90 allocations: 2.98 KiB"
   ]
  },
  {
   "cell_type": "code",
   "execution_count": null,
   "metadata": {},
   "outputs": [],
   "source": [
    "# simulate\n",
    "QPWalkingControl.init_footstep_plan!(statemachine, nominalstate, foot_polygons);\n",
    "@time sol = solve(problem, Tsit5(), abs_tol = 1e-8, dt = 1e-6)#, dtmax=1e-3);\n",
    "last(sol.t)"
   ]
  },
  {
   "cell_type": "code",
   "execution_count": null,
   "metadata": {},
   "outputs": [],
   "source": [
    "setanimation!(vis, Animation(mvis, sol))"
   ]
  },
  {
   "cell_type": "code",
   "execution_count": null,
   "metadata": {},
   "outputs": [],
   "source": [
    "# using Test\n",
    "# copyto!(state, last(sol.u))\n",
    "# @test last(sol.t) == last(tspan)\n",
    "# @test center_of_mass(state).v[1] > 1.5\n",
    "# @test center_of_mass(state).v[3] > 0.7"
   ]
  },
  {
   "cell_type": "code",
   "execution_count": null,
   "metadata": {},
   "outputs": [],
   "source": [
    "# using BenchmarkTools\n",
    "# AtlasRobot.setnominal!(state)\n",
    "# τ = similar(velocity(state));\n",
    "# benchresult = @benchmark $controller($τ, 0.0, $state)\n",
    "# @test benchresult.allocs == 0\n",
    "# benchresult"
   ]
  },
  {
   "cell_type": "code",
   "execution_count": null,
   "metadata": {},
   "outputs": [],
   "source": []
  }
 ],
 "metadata": {
  "@webio": {
   "lastCommId": null,
   "lastKernelId": null
  },
  "kernelspec": {
   "display_name": "Julia 1.1.0",
   "language": "julia",
   "name": "julia-1.1"
  },
  "language_info": {
   "file_extension": ".jl",
   "mimetype": "application/julia",
   "name": "julia",
   "version": "1.1.0"
  }
 },
 "nbformat": 4,
 "nbformat_minor": 2
}
