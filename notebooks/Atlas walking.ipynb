{
 "cells": [
  {
   "cell_type": "code",
   "execution_count": 1,
   "metadata": {},
   "outputs": [
    {
     "name": "stdout",
     "output_type": "stream",
     "text": [
      "\u001b[32m\u001b[1m  Updating\u001b[22m\u001b[39m registry at `~/.julia/registries/General`\n",
      "\u001b[32m\u001b[1m  Updating\u001b[22m\u001b[39m git-repo `ssh://git@github.com/JuliaRegistries/General.git`\n",
      "\u001b[?25l\u001b[2K\u001b[?25h"
     ]
    }
   ],
   "source": [
    "using Pkg\n",
    "Pkg.activate(joinpath(@__DIR__, \"..\"))\n",
    "Pkg.instantiate()"
   ]
  },
  {
   "cell_type": "code",
   "execution_count": 2,
   "metadata": {},
   "outputs": [
    {
     "name": "stderr",
     "output_type": "stream",
     "text": [
      "┌ Info: Recompiling stale cache file /home/twan/.julia/compiled/v1.1/QPControl/8tP2B.ji for QPControl [d1d18edd-2826-5709-814b-0b0c7d0d034b]\n",
      "└ @ Base loading.jl:1184\n",
      "┌ Info: Recompiling stale cache file /home/twan/.julia/compiled/v1.1/RigidBodySim/s3FmJ.ji for RigidBodySim [e61f16d8-a6b7-5689-8d03-627c2b27ebce]\n",
      "└ @ Base loading.jl:1184\n",
      "WARNING: could not import Base.quit into AtomShell\n"
     ]
    },
    {
     "data": {
      "text/html": [
       "    <script class='js-collapse-script'>\n",
       "        var curMatch =\n",
       "            window.location.href\n",
       "            .match(/(.*?)\\/notebooks\\/.*\\.ipynb/);\n",
       "\n",
       "        curMatch = curMatch ||\n",
       "            window.location.href\n",
       "            .match(/(.*?)\\/apps\\/.*\\.ipynb/);\n",
       "\n",
       "        if ( curMatch ) {\n",
       "            $('head').append('<base href=\"' + curMatch[1] + '/\">');\n",
       "        }\n",
       "    </script>\n"
      ],
      "text/plain": [
       "HTML{String}(\"    <script class='js-collapse-script'>\\n        var curMatch =\\n            window.location.href\\n            .match(/(.*?)\\\\/notebooks\\\\/.*\\\\.ipynb/);\\n\\n        curMatch = curMatch ||\\n            window.location.href\\n            .match(/(.*?)\\\\/apps\\\\/.*\\\\.ipynb/);\\n\\n        if ( curMatch ) {\\n            \\$('head').append('<base href=\\\"' + curMatch[1] + '/\\\">');\\n        }\\n    </script>\\n\")"
      ]
     },
     "metadata": {},
     "output_type": "display_data"
    },
    {
     "data": {
      "text/html": [
       "<script class='js-collapse-script' src='/assetserver/29d4a42ceb6d03d53ba5feb8981c0eb5bceb5139-assets/webio/dist/bundle.js'></script>"
      ],
      "text/plain": [
       "HTML{String}(\"<script class='js-collapse-script' src='/assetserver/29d4a42ceb6d03d53ba5feb8981c0eb5bceb5139-assets/webio/dist/bundle.js'></script>\")"
      ]
     },
     "metadata": {},
     "output_type": "display_data"
    },
    {
     "data": {
      "text/html": [
       "<script class='js-collapse-script' src='/assetserver/29d4a42ceb6d03d53ba5feb8981c0eb5bceb5139-assets/providers/ijulia_setup.js'></script>"
      ],
      "text/plain": [
       "HTML{String}(\"<script class='js-collapse-script' src='/assetserver/29d4a42ceb6d03d53ba5feb8981c0eb5bceb5139-assets/providers/ijulia_setup.js'></script>\")"
      ]
     },
     "metadata": {},
     "output_type": "display_data"
    },
    {
     "data": {
      "text/html": [
       "  <script class='js-collapse-script'>\n",
       "    $('.js-collapse-script').parent('.output_subarea').css('padding', '0');\n",
       "  </script>\n"
      ],
      "text/plain": [
       "HTML{String}(\"  <script class='js-collapse-script'>\\n    \\$('.js-collapse-script').parent('.output_subarea').css('padding', '0');\\n  </script>\\n\")"
      ]
     },
     "metadata": {},
     "output_type": "display_data"
    },
    {
     "name": "stderr",
     "output_type": "stream",
     "text": [
      "┌ Info: Recompiling stale cache file /home/twan/.julia/compiled/v1.1/QPWalkingControl/1h0cg.ji for QPWalkingControl [0b169a85-4a4a-588b-8c74-4a8044adc824]\n",
      "└ @ Base loading.jl:1184\n"
     ]
    }
   ],
   "source": [
    "using LinearAlgebra\n",
    "using QPControl\n",
    "using QPControl.Trajectories\n",
    "using RigidBodyDynamics\n",
    "using RigidBodyDynamics.PDControl\n",
    "using RigidBodyDynamics.Contact\n",
    "using StaticArrays\n",
    "using AtlasRobot\n",
    "using Test\n",
    "using RigidBodySim\n",
    "using MathOptInterface\n",
    "using OSQP.MathOptInterfaceOSQP: OSQPSettings\n",
    "const MOI = MathOptInterface\n",
    "using OSQP\n",
    "using QPWalkingControl\n",
    "using PlanarConvexHulls\n",
    "using Rotations\n",
    "BLAS.set_num_threads(1)"
   ]
  },
  {
   "cell_type": "code",
   "execution_count": 3,
   "metadata": {},
   "outputs": [],
   "source": [
    "if !(@isdefined mechanism)\n",
    "#     contactmodel = SoftContactModel(hunt_crossley_hertz(k = 0.8e6), ViscoelasticCoulombModel(0.8, 10e3, 100.))\n",
    "    mechanism = AtlasRobot.mechanism(add_flat_ground=true)#, contactmodel=contactmodel);\n",
    "end\n",
    "\n",
    "# static contact information\n",
    "soleframes = add_sole_frames!(mechanism)\n",
    "foot_polygons = make_foot_polygons(mechanism, soleframes; num_extreme_points=4);\n",
    "\n",
    "# body lookup\n",
    "feet = findbody.(Ref(mechanism), [\"l_foot\", \"r_foot\"])\n",
    "pelvis = findbody(mechanism, \"pelvis\");"
   ]
  },
  {
   "cell_type": "code",
   "execution_count": 4,
   "metadata": {},
   "outputs": [],
   "source": [
    "# create low level controller\n",
    "lowlevel = let\n",
    "    optimizer = OSQP.Optimizer()\n",
    "    MOI.set(optimizer, OSQPSettings.Verbose(), false)\n",
    "    MOI.set(optimizer, OSQPSettings.EpsAbs(), 1e-5)\n",
    "    MOI.set(optimizer, OSQPSettings.EpsRel(), 1e-5)\n",
    "    MOI.set(optimizer, OSQPSettings.MaxIter(), 5000)\n",
    "    MOI.set(optimizer, OSQPSettings.AdaptiveRhoInterval(), 25) # required for deterministic behavior\n",
    "    lowlevel = MomentumBasedController{4}(mechanism, optimizer,\n",
    "        floatingjoint = findjoint(mechanism, \"pelvis_to_world\"));\n",
    "    for body in bodies(mechanism)\n",
    "        for point in RigidBodyDynamics.contact_points(body)\n",
    "            position = location(point)\n",
    "            normal = FreeVector3D(default_frame(body), 0.0, 0.0, 1.0)\n",
    "            μ = point.model.friction.μ\n",
    "            contact = addcontact!(lowlevel, body, position, normal, μ)\n",
    "            contact.maxnormalforce[] = 1e6 # TODO\n",
    "            contact.weight[] = 1e-3\n",
    "        end\n",
    "    end\n",
    "    lowlevel\n",
    "end;"
   ]
  },
  {
   "cell_type": "code",
   "execution_count": 5,
   "metadata": {},
   "outputs": [
    {
     "data": {
      "text/plain": [
       "MechanismState{Float64, Float64, Float64, …}(…)"
      ]
     },
     "execution_count": 5,
     "metadata": {},
     "output_type": "execute_result"
    }
   ],
   "source": [
    "nominalstate = MechanismState(mechanism)\n",
    "AtlasRobot.setnominal!(nominalstate)"
   ]
  },
  {
   "cell_type": "code",
   "execution_count": 118,
   "metadata": {},
   "outputs": [],
   "source": [
    "# ICP stuff\n",
    "zdes = center_of_mass(nominalstate).v[3] - 0.05\n",
    "gz = norm(mechanism.gravitational_acceleration)\n",
    "ω = sqrt(gz / zdes)\n",
    "icptraj = let\n",
    "    optimizer = OSQP.Optimizer()\n",
    "    MOI.set(optimizer, OSQPSettings.Verbose(), false)\n",
    "    MOI.set(optimizer, OSQPSettings.EpsAbs(), 1e-6)\n",
    "    MOI.set(optimizer, OSQPSettings.EpsRel(), 1e-8)\n",
    "    MOI.set(optimizer, OSQPSettings.MaxIter(), 10000)\n",
    "    MOI.set(optimizer, OSQPSettings.AdaptiveRhoInterval(), 25) # required for deterministic behavior\n",
    "    max_polygon_sides = 6 # TODO\n",
    "    num_segments = 6\n",
    "    ICPTrajectoryGenerator{Float64, max_polygon_sides}(optimizer, num_segments, ω)\n",
    "end\n",
    "linear_momentum_controller = ICPController(mechanism, icptraj, zdes);"
   ]
  },
  {
   "cell_type": "code",
   "execution_count": 119,
   "metadata": {},
   "outputs": [],
   "source": [
    "# walking state machine\n",
    "statemachine = let\n",
    "    contacts = Dict(BodyID(body) => contact for (body, contact) in lowlevel.contacts)\n",
    "    ICPWalkingStateMachine(mechanism, contacts, icptraj)\n",
    "end;"
   ]
  },
  {
   "cell_type": "code",
   "execution_count": 120,
   "metadata": {},
   "outputs": [],
   "source": [
    "QPWalkingControl.init_footstep_plan!(statemachine, nominalstate, foot_polygons);"
   ]
  },
  {
   "cell_type": "code",
   "execution_count": 121,
   "metadata": {},
   "outputs": [],
   "source": [
    "# create high level controller\n",
    "controller = PushRecoveryController(lowlevel, pelvis, nominalstate, \n",
    "    statemachine, collect(values(statemachine.end_effector_controllers)), linear_momentum_controller);"
   ]
  },
  {
   "cell_type": "code",
   "execution_count": 122,
   "metadata": {},
   "outputs": [],
   "source": [
    "# create visualizer\n",
    "using MeshCat\n",
    "using MeshCatMechanisms\n",
    "using MechanismGeometries\n",
    "\n",
    "if !(@isdefined gui) || !any(isopen, MeshCatMechanisms.visualizer(gui.visualizer).core.scope.pool.connections)\n",
    "    pushapplier = PushApplier(mechanism, Point3D(default_frame(pelvis), 0.0, 0.0, 0.0))\n",
    "    link_colors = Dict(map(foot -> string(foot) => RGBA(0.7f0, 0.7f0, 0.7f0, 0.3f0), feet))\n",
    "    visuals = URDFVisuals(AtlasRobot.urdfpath(); package_path=[AtlasRobot.packagepath()])#, link_colors=link_colors)\n",
    "    vis = Visualizer()\n",
    "    mvis = MechanismVisualizer(mechanism, visuals, vis)\n",
    "    pvis = PushRecoveryVisualizer(mvis)\n",
    "    gui = GUI(pvis, usernode=Widget(pushapplier, max_force=100.0, max_Δt=0.3))\n",
    "    open(gui)\n",
    "end\n",
    "copyto!(gui.visualizer, nominalstate);"
   ]
  },
  {
   "cell_type": "code",
   "execution_count": 123,
   "metadata": {
    "scrolled": true
   },
   "outputs": [
    {
     "data": {
      "text/plain": [
       "\u001b[36mODEProblem\u001b[0m with uType \u001b[36mArray{Float64,1}\u001b[0m and tType \u001b[36mFloat64\u001b[0m. In-place: \u001b[36mtrue\u001b[0m\n",
       "timespan: (0.0, 18.0)\n",
       "u0: [1.0, 0.0, 0.0, 0.0, 0.0, 0.0, 0.85, 0.0, 0.0, 0.0  …  0.0, 0.0, 0.0, 0.0, 0.0, 0.0, 0.0, 0.0, 0.0, 0.0]"
      ]
     },
     "execution_count": 123,
     "metadata": {},
     "output_type": "execute_result"
    }
   ],
   "source": [
    "# create ODEProblem\n",
    "state = MechanismState(mechanism)\n",
    "copyto!(state, nominalstate)\n",
    "Δt = 1 / 500\n",
    "pcontroller = PeriodicController(similar(velocity(state)), Δt, controller)\n",
    "damping = JointDamping{Float64}(mechanism, AtlasRobot.urdfpath())\n",
    "dynamics = Dynamics(mechanism, SumController(similar(velocity(state)), (pcontroller, damping, pushapplier)))\n",
    "callback = CallbackSet(RealtimeRateLimiter(poll_interval=pi / 100), CallbackSet(gui))\n",
    "# callback = CallbackSet(gui; max_fps=10)\n",
    "tspan = (0., 18.)\n",
    "problem = ODEProblem(dynamics, state, tspan; callback=callback)"
   ]
  },
  {
   "cell_type": "code",
   "execution_count": 124,
   "metadata": {},
   "outputs": [],
   "source": [
    "QPWalkingControl.init_footstep_plan!(statemachine, nominalstate, foot_polygons);"
   ]
  },
  {
   "cell_type": "code",
   "execution_count": 125,
   "metadata": {},
   "outputs": [],
   "source": [
    "using Plots\n",
    "using Plots.PlotMeasures"
   ]
  },
  {
   "cell_type": "code",
   "execution_count": 135,
   "metadata": {},
   "outputs": [
    {
     "data": {
      "image/svg+xml": [
       "<?xml version=\"1.0\" encoding=\"utf-8\"?>\n",
       "<svg xmlns=\"http://www.w3.org/2000/svg\" xmlns:xlink=\"http://www.w3.org/1999/xlink\" width=\"800\" height=\"246\" viewBox=\"0 0 3200 984\">\n",
       "<defs>\n",
       "  <clipPath id=\"clip9900\">\n",
       "    <rect x=\"0\" y=\"0\" width=\"3200\" height=\"984\"/>\n",
       "  </clipPath>\n",
       "</defs>\n",
       "<polygon clip-path=\"url(#clip9900)\" points=\"\n",
       "0,984 3200,984 3200,0 0,0 \n",
       "  \" fill=\"#ffffff\" fill-rule=\"evenodd\" fill-opacity=\"1\"/>\n",
       "<defs>\n",
       "  <clipPath id=\"clip9901\">\n",
       "    <rect x=\"640\" y=\"0\" width=\"2241\" height=\"984\"/>\n",
       "  </clipPath>\n",
       "</defs>\n",
       "<polygon clip-path=\"url(#clip9900)\" points=\"\n",
       "225.925,835.531 3152.76,835.531 3152.76,47.2441 225.925,47.2441 \n",
       "  \" fill=\"#ffffff\" fill-rule=\"evenodd\" fill-opacity=\"1\"/>\n",
       "<defs>\n",
       "  <clipPath id=\"clip9902\">\n",
       "    <rect x=\"225\" y=\"47\" width=\"2928\" height=\"789\"/>\n",
       "  </clipPath>\n",
       "</defs>\n",
       "<polyline clip-path=\"url(#clip9902)\" style=\"stroke:#000000; stroke-width:2; stroke-opacity:0.1; fill:none\" points=\"\n",
       "  733.554,835.531 733.554,47.2441 \n",
       "  \"/>\n",
       "<polyline clip-path=\"url(#clip9902)\" style=\"stroke:#000000; stroke-width:2; stroke-opacity:0.1; fill:none\" points=\"\n",
       "  1264.55,835.531 1264.55,47.2441 \n",
       "  \"/>\n",
       "<polyline clip-path=\"url(#clip9902)\" style=\"stroke:#000000; stroke-width:2; stroke-opacity:0.1; fill:none\" points=\"\n",
       "  1795.54,835.531 1795.54,47.2441 \n",
       "  \"/>\n",
       "<polyline clip-path=\"url(#clip9902)\" style=\"stroke:#000000; stroke-width:2; stroke-opacity:0.1; fill:none\" points=\"\n",
       "  2326.53,835.531 2326.53,47.2441 \n",
       "  \"/>\n",
       "<polyline clip-path=\"url(#clip9902)\" style=\"stroke:#000000; stroke-width:2; stroke-opacity:0.1; fill:none\" points=\"\n",
       "  2857.52,835.531 2857.52,47.2441 \n",
       "  \"/>\n",
       "<polyline clip-path=\"url(#clip9902)\" style=\"stroke:#000000; stroke-width:2; stroke-opacity:0.1; fill:none\" points=\"\n",
       "  225.925,813.221 3152.76,813.221 \n",
       "  \"/>\n",
       "<polyline clip-path=\"url(#clip9902)\" style=\"stroke:#000000; stroke-width:2; stroke-opacity:0.1; fill:none\" points=\"\n",
       "  225.925,627.305 3152.76,627.305 \n",
       "  \"/>\n",
       "<polyline clip-path=\"url(#clip9902)\" style=\"stroke:#000000; stroke-width:2; stroke-opacity:0.1; fill:none\" points=\"\n",
       "  225.925,441.388 3152.76,441.388 \n",
       "  \"/>\n",
       "<polyline clip-path=\"url(#clip9902)\" style=\"stroke:#000000; stroke-width:2; stroke-opacity:0.1; fill:none\" points=\"\n",
       "  225.925,255.471 3152.76,255.471 \n",
       "  \"/>\n",
       "<polyline clip-path=\"url(#clip9902)\" style=\"stroke:#000000; stroke-width:2; stroke-opacity:0.1; fill:none\" points=\"\n",
       "  225.925,69.5541 3152.76,69.5541 \n",
       "  \"/>\n",
       "<polyline clip-path=\"url(#clip9900)\" style=\"stroke:#000000; stroke-width:4; stroke-opacity:1; fill:none\" points=\"\n",
       "  225.925,835.531 3152.76,835.531 \n",
       "  \"/>\n",
       "<polyline clip-path=\"url(#clip9900)\" style=\"stroke:#000000; stroke-width:4; stroke-opacity:1; fill:none\" points=\"\n",
       "  225.925,835.531 225.925,47.2441 \n",
       "  \"/>\n",
       "<polyline clip-path=\"url(#clip9900)\" style=\"stroke:#000000; stroke-width:4; stroke-opacity:1; fill:none\" points=\"\n",
       "  733.554,835.531 733.554,823.707 \n",
       "  \"/>\n",
       "<polyline clip-path=\"url(#clip9900)\" style=\"stroke:#000000; stroke-width:4; stroke-opacity:1; fill:none\" points=\"\n",
       "  1264.55,835.531 1264.55,823.707 \n",
       "  \"/>\n",
       "<polyline clip-path=\"url(#clip9900)\" style=\"stroke:#000000; stroke-width:4; stroke-opacity:1; fill:none\" points=\"\n",
       "  1795.54,835.531 1795.54,823.707 \n",
       "  \"/>\n",
       "<polyline clip-path=\"url(#clip9900)\" style=\"stroke:#000000; stroke-width:4; stroke-opacity:1; fill:none\" points=\"\n",
       "  2326.53,835.531 2326.53,823.707 \n",
       "  \"/>\n",
       "<polyline clip-path=\"url(#clip9900)\" style=\"stroke:#000000; stroke-width:4; stroke-opacity:1; fill:none\" points=\"\n",
       "  2857.52,835.531 2857.52,823.707 \n",
       "  \"/>\n",
       "<polyline clip-path=\"url(#clip9900)\" style=\"stroke:#000000; stroke-width:4; stroke-opacity:1; fill:none\" points=\"\n",
       "  225.925,813.221 269.828,813.221 \n",
       "  \"/>\n",
       "<polyline clip-path=\"url(#clip9900)\" style=\"stroke:#000000; stroke-width:4; stroke-opacity:1; fill:none\" points=\"\n",
       "  225.925,627.305 269.828,627.305 \n",
       "  \"/>\n",
       "<polyline clip-path=\"url(#clip9900)\" style=\"stroke:#000000; stroke-width:4; stroke-opacity:1; fill:none\" points=\"\n",
       "  225.925,441.388 269.828,441.388 \n",
       "  \"/>\n",
       "<polyline clip-path=\"url(#clip9900)\" style=\"stroke:#000000; stroke-width:4; stroke-opacity:1; fill:none\" points=\"\n",
       "  225.925,255.471 269.828,255.471 \n",
       "  \"/>\n",
       "<polyline clip-path=\"url(#clip9900)\" style=\"stroke:#000000; stroke-width:4; stroke-opacity:1; fill:none\" points=\"\n",
       "  225.925,69.5541 269.828,69.5541 \n",
       "  \"/>\n",
       "<g clip-path=\"url(#clip9900)\">\n",
       "<text style=\"fill:#000000; fill-opacity:1; font-family:Arial,Helvetica Neue,Helvetica,sans-serif; font-size:48px; text-anchor:middle;\" transform=\"rotate(0, 733.554, 893.531)\" x=\"733.554\" y=\"893.531\">0.00</text>\n",
       "</g>\n",
       "<g clip-path=\"url(#clip9900)\">\n",
       "<text style=\"fill:#000000; fill-opacity:1; font-family:Arial,Helvetica Neue,Helvetica,sans-serif; font-size:48px; text-anchor:middle;\" transform=\"rotate(0, 1264.55, 893.531)\" x=\"1264.55\" y=\"893.531\">0.25</text>\n",
       "</g>\n",
       "<g clip-path=\"url(#clip9900)\">\n",
       "<text style=\"fill:#000000; fill-opacity:1; font-family:Arial,Helvetica Neue,Helvetica,sans-serif; font-size:48px; text-anchor:middle;\" transform=\"rotate(0, 1795.54, 893.531)\" x=\"1795.54\" y=\"893.531\">0.50</text>\n",
       "</g>\n",
       "<g clip-path=\"url(#clip9900)\">\n",
       "<text style=\"fill:#000000; fill-opacity:1; font-family:Arial,Helvetica Neue,Helvetica,sans-serif; font-size:48px; text-anchor:middle;\" transform=\"rotate(0, 2326.53, 893.531)\" x=\"2326.53\" y=\"893.531\">0.75</text>\n",
       "</g>\n",
       "<g clip-path=\"url(#clip9900)\">\n",
       "<text style=\"fill:#000000; fill-opacity:1; font-family:Arial,Helvetica Neue,Helvetica,sans-serif; font-size:48px; text-anchor:middle;\" transform=\"rotate(0, 2857.52, 893.531)\" x=\"2857.52\" y=\"893.531\">1.00</text>\n",
       "</g>\n",
       "<g clip-path=\"url(#clip9900)\">\n",
       "<text style=\"fill:#000000; fill-opacity:1; font-family:Arial,Helvetica Neue,Helvetica,sans-serif; font-size:48px; text-anchor:end;\" transform=\"rotate(0, 193.925, 830.721)\" x=\"193.925\" y=\"830.721\">-0.2</text>\n",
       "</g>\n",
       "<g clip-path=\"url(#clip9900)\">\n",
       "<text style=\"fill:#000000; fill-opacity:1; font-family:Arial,Helvetica Neue,Helvetica,sans-serif; font-size:48px; text-anchor:end;\" transform=\"rotate(0, 193.925, 644.805)\" x=\"193.925\" y=\"644.805\">-0.1</text>\n",
       "</g>\n",
       "<g clip-path=\"url(#clip9900)\">\n",
       "<text style=\"fill:#000000; fill-opacity:1; font-family:Arial,Helvetica Neue,Helvetica,sans-serif; font-size:48px; text-anchor:end;\" transform=\"rotate(0, 193.925, 458.888)\" x=\"193.925\" y=\"458.888\">0.0</text>\n",
       "</g>\n",
       "<g clip-path=\"url(#clip9900)\">\n",
       "<text style=\"fill:#000000; fill-opacity:1; font-family:Arial,Helvetica Neue,Helvetica,sans-serif; font-size:48px; text-anchor:end;\" transform=\"rotate(0, 193.925, 272.971)\" x=\"193.925\" y=\"272.971\">0.1</text>\n",
       "</g>\n",
       "<g clip-path=\"url(#clip9900)\">\n",
       "<text style=\"fill:#000000; fill-opacity:1; font-family:Arial,Helvetica Neue,Helvetica,sans-serif; font-size:48px; text-anchor:end;\" transform=\"rotate(0, 193.925, 87.0541)\" x=\"193.925\" y=\"87.0541\">0.2</text>\n",
       "</g>\n",
       "<g clip-path=\"url(#clip9900)\">\n",
       "<image width=\"156\" height=\"65\" xlink:href=\"data:image/png;base64,\n",
       "iVBORw0KGgoAAAANSUhEUgAAAJwAAABBCAYAAAAkGM28AAAIMElEQVR4nO1d/ZGjPg8WN28BzpYA\n",
       "VwF7JZCrgFwJXAeelMCmArIlsFtBsiWQrYCkBJIO9P6xZ37CMYkhEJuNn5lnJp9GKLLkD8nxEBEc\n",
       "umO73aLv+xAEgWdalnvj7e0NF4tFr/v+MbQwj4DFYoG/f/+Gw+FgWpS7Y7/f458/f+D5+RmPx2N3\n",
       "b4WIjh0YRRECAKZpiqZlMcWiKBAA0Pd9LMuykx6MCz8VVlWFYRgiAGCSJJ2U/B252WwQAJAx1sno\n",
       "jAs+FQrPFkWRtnK/O7Msqz1dVVVaejEu9BSYJEmtWNOy2EahmzAMtXRjXGDbKXoxAGBRFFpKfTT6\n",
       "vq891DAurM0Ug2MAQM75VWU+KsV4DgAwy7KLejIurM0UPdeF0usUoRUALk4ijAtqKznntQLzPG9V\n",
       "oOMXq6qq9XVpYmVcUBtZlmWtPOfd9Em9XFsnNS6kjYzj2Hm3HqRerq2jGhfSNjrvdhtpZ1VNINxe\n",
       "qoTlclk/TpLEoCTTBNXZarU6e99DdNkiFJ7n1Qqpqgpms9nDZYPciiAIUCQ2FEUBz8/PtQ6dhyNY\n",
       "r9e1sUVR5IytJ+I4rh+/vr423zQd822i2JwHjQVMx3bSBfMvE/vvPePC2UI6WQAA7c1oRzUZY8rO\n",
       "60LqP1DX7/u+C6c3Ioqi+vH7+3v92BncP3x8fNSPqbIc+oHqkOpW2+DW6zXO53MMggA9z8PZbIaL\n",
       "xQK32+3Fae52u8X5fI6z2Qw9z8MgCLS+d298fn7Wj20xuF4p3CO20wW/fv1qPN/tdl8yXIvFeZ6j\n",
       "iMdhGGKSJMg5R5GQCAAYx7FyvCMWAcMwRM45pmmKdGEwDEMrxko02wEGSEPKsgw555gkCcZxjFEU\n",
       "oe/7SMc1qmtUVYWccxRJA5S+7yPnXEs20Q6dBNF2kiTBzWYzut7pdUVK/sUviA3sMAyVN0pzxeRV\n",
       "eXGzqq0h+j0bMmjpRj1Is6o+pIbVRlmfQgbGGCZJglmWYZ7nmGVZo3OLDt7WUbu0E0XRqB2edhzx\n",
       "O1/9Ea7lgdGbEAl4woupjJR6OEHTXo7ewxDbWZzz2rO1GR/VjfjcpaUY2kmFE5A/E4bh1XbyPD/z\n",
       "eGPpVf6tWw1O3JxO0mGapo1GxXPVd+WbFexa+TM0qVGM4XFlD0oNToRbnU4neyiqY9GOji5lQxir\n",
       "KEi+76qqzj9UVRUyxrQV32ZEOjc6VAi7lfdQvsrgOOfIGNP28Cpdix+2SzvymHWsKCN75aIo8GyW\n",
       "ulwu4XQ6QZZl8lvaaNv0fnp60v7svbDf75E+Z4yNch253aIoYLVawcfHh/aan2r2/PLygqvVCvI8\n",
       "125nPp+ffY4uXQwF+fc+HA7NkCq2JLr08kvhQmZZlo0ZmA31nXJvH2tLS555dokilKoxoW7F1CV5\n",
       "xqjZkLe40jTF/1ELFKvtnHNtK6brVwBfPZlmB1AEQeDt93vY7/doy5kc8nENKi88Bk6nUyc9Czw9\n",
       "PcHpdGq8RlOqdCF73DGOrVBdoxFS8zyHMAw7HdAiC6qzaGqLsakwVkhVQRXarkElX5+FarljyUY8\n",
       "BORrVFXVNDjf9yFN006N9jE4mzCGonUQhuEg7Uxt37cRUne7XSfB6+0KgqkZXFVVjef3CqlDXeee\n",
       "Hrkr/nWE2kZOp9Ntm/fyzIYxZnW4tAlDGcq9OsgQOAupXSEb3NS8m0k8goeT8fT05AxONbB1GA+9\n",
       "De47jN9UMDWJ+I6Q06IYY/0N7ruM3+SQ5DzcuBjM4OSEu6ngHutRjwq58/q+P5zBTTWc+r7feO48\n",
       "3HCQ12h7G9yt47fdboe9T8EeGLLBOQ83HGRd9jY4VWZB2/6pCmmawufnpxUr5LIMzsMNBy0PJ6fr\n",
       "qHBrOH1/f7cqBFMv94j/vTAWZF0GQeDVBvfy8oKe5+HPnz9hNpuhKmwCfE11ZYOTw9IliOMU+mRK\n",
       "jAW6rylnvzj0R1EU9WNhIz8AvoyApricTqfWlJc8z89e62Jwy+USoijqlSkxFmRvq+PlHa6Dejih\n",
       "4x8A6nyqtrGM6ggm3e2Vv3//4q3ZxGNANrgxwqqsz75jRXkg3neSM/ZY9Xg8IpWtYXAqoVVjrPV6\n",
       "jYfDATjnDSPT+YHe3t7w9fUVOOfWLRAHQeDR+xkj3VrWcV+jlr9nup020HAKQOwJ8bzAQ5WyLA57\n",
       "Ee/Rai3G2MX0ZFH80VYwbQPlAu2h2i3LEunZtyCls+sWr1xqJ01T7XZEkbSqHc75YMU09Bq0FPHs\n",
       "TVVu+2azQcbYWWUQ/ZFU3yvLsi6+tdnYEM8rjG5pS1U5r0NZR6rKeR3KtRJ927ml49Fr0tqV+gO0\n",
       "98RxjGmaNo4LaKvSpt8TRzrIR0FM5Z/3qLJvOQpBp/Jex1D6Gq5sKPc2OHq4NECzqKrxwaIoMEmS\n",
       "urKKMYZhGF6tZBLuXtyYqEjq4uptIO08NlSUTZW0flY2WuPC2URa1nZtXOrYThrdZGflDpWWQA9E\n",
       "3mw2Vq0XTgHH4xFpBo58MLc7kFAC3QE5OxDZ4SqozuI4Pturdh5OgdlsVi9almVp3bqhzaARQqU7\n",
       "5+EUoLW5qp0VBzXExgDA15kxqo7qPFwLaE91fxCiBx2dOQ/XApqk0OfsjkcD9W5ZlrV3UNNTaJtJ\n",
       "d2Dc34+3U5wpCBqLxcaFtZ1iMdv9s2A7xRanzqGIxoW1nbT3uv+9PyfdVdCJAsYFngLpDoT7w97/\n",
       "WJZl3Rl19WJc6Kmwa0/+7qyqqt5z7+L5jQs+JQqjY4wZP3ndNMXYtusww7jgU6M4E1j3qPvvSDFJ\n",
       "6JN2Zlz4KbIoCgzD8CHHc+Jg8L75gv8H3UXDTwy3i0wAAAAASUVORK5CYII=\n",
       "\" transform=\"translate(1611, 920)\"/>\n",
       "</g>\n",
       "<g clip-path=\"url(#clip9900)\">\n",
       "<image width=\"65\" height=\"153\" xlink:href=\"data:image/png;base64,\n",
       "iVBORw0KGgoAAAANSUhEUgAAAEEAAACZCAYAAABwmlcHAAAIA0lEQVR4nO1d4ZHbLBN+7p2vAOIS\n",
       "SCrAV4LSAWlB6UDjEnSpQEkJJBXYLgG7AsklYHew348EBcuSLVkgyxd2Zufm7mQMj3YXWHaXFyJC\n",
       "SDoej3Q4HOCyMQYAcDqdYIzBYrEAADDGAACc8zP++PHjS8g+/s93g7vdjrbbLSx7IuKcI0mSmj98\n",
       "+OAPGCIazUVRUJIkBGAy5pxTmqaktaax/b/7g1prStN00oF3sRCCiqIgY8xdgLwMtQnfv3+nb9++\n",
       "4XA4XH2Ocw4hRK3Xi8UCnHMwxmob0BTp4/FIAGCMweFwwOl0qu2I1rr+2zWSUiLP82F2pC9aSini\n",
       "nLe+CcYYSSmpKAov4nmNjTG0Xq8pyzISQnRKR5qmvSXj5gNlWbbqO+ecsiwLPug+oCilOm1SURQ3\n",
       "+3f1n0VRXDQqpaT1ev3QgV8DJM/zC4kVQlyVis4Gm0ZviHjNgYuiOAODMdYpta1ourr2bINvA4Mx\n",
       "Vo9HKXUxlrNfyrKs0eOcz1bsh7IxhqSUNRBZlp2N6wwAi1iapu9i8E1WStVjdIGokbIS0MeaPjO7\n",
       "0p7nOdUgWBvwXsT/Frt2b71e/xYRAA+f7x/BUkrinNMLEaGqKgq9XZ0rVVVFg/cO75H+e3QH5kAR\n",
       "BEQQADw5CMvlkpbL5Wij9tSG8eXlhQCAiEbNbE8tCb7oaUGwrjgf9LQg5HnurS3v5w5tdDweabvd\n",
       "9naW3iLrfPVGodfnU7jlx/Yx6E6tyzv9z4Aw5YnU2L4GsQmbzYbaziGbhy/3kHsw441C24FQLvos\n",
       "y+atDtYWtHl2fbExZt4gAKAkSYIB4H6PDxCCLZaklKGa9k7eDaNdzo4xfn1JCOGlHe8g/DluJxuS\n",
       "E5J2u50Xv2gQdRBCYL/fh2g6CAUBIUkSKKVCNB2GQk5foU+zkiQhIcQ8p0ii34sZxhiVZRkMCHia\n",
       "IoO615bLJZ1OJ2it/Ybc/aGncK/tdrsXG7i12Wy8ou3TsxRMHZqqgT9hM0opL0EfeZ57WzZP5m1+\n",
       "e3uj1WpV/+7uKG04bx9yw/osjVWHyaQgJI82sKEG34x9+idBcGOE5g5CEJuw2+3o9fX14u/32IAm\n",
       "WZvg0ixtgmsHkiTxNiO47HqvZqkOUwSBlWU5bxCsBIQCwP0eHyBEzxLegWfJh+s9epYQaAPFOY+e\n",
       "JSll9CxN5VmSUnqZhYJ10HqWQuZKYM7LZkufP38mm8n2z3qWNptN7Vna7XbRs4Q/q0hfJ9Ruktos\n",
       "1aHtrWutsVqt6sWNEKLeUQ5ZWNn4BHcKHqsOQUCwujoVzdomPAsFAWGM0+QRFCRmabFYXGxsxsYq\n",
       "WTLG+I1XAsLMDm7kWjMH0RfP3rNknayMsSAAEPn1LAWxCVbs25ytvshn4lpQw/gsBjKYP4ExBs55\n",
       "iOYvvmcsPXXmiy+KiyVEEABEEABEEAAA/1VVRb5DaZ6Fjscj/fz5k7Berwn4W1DhX2FbTEIIcb7M\n",
       "fa9lRJqsta7Limit//7DbnqmOEh9JNuiGcDfyiFnD9jwGs75u6ys4cZNuAkpZw8ZY2iKbfDUrLU+\n",
       "y8xrZuS0fsjdq3POg6bxhGRjzFm5xK6qW50NNOuuPRMYZVle1Iq8Vn9tkBhZMPI8n2UpsvV6TW1R\n",
       "c7fUulfjXQGZSZKMqojpa+Bpmp7VV3NfWB8DP0jErsUm2pqpSqlgM0tZlr0KUjLGBp2ID/YnVFVF\n",
       "q9UKv379uvmsW3bYOlncOEbX+2y9yG0/mydO174vyzJ8/fp1mOttzJspimKy0N1rPLZqrzcxvSWi\n",
       "PtmtCeuj/0HcazZhfL/fQ2s9+rDEVv61hat9l0ibzMdYVRW5eQpW3y25pcxteWPOeZDgjiZFRyui\n",
       "ZwlABAFABAFABAFABAFABAFABAFABAFABAFABAFABAFABAFABAFABAFABAFABAFABAFABAFABAFA\n",
       "BAFABAFABAFABAFABAFABAFABAFABAFABAFABAFAoOTQt7c3UkqBc47X11ckSYLlcjnba9e8H80f\n",
       "j0fqyoR1bwifEyjeQaiqij59+tTr2dmAEiLU7t4yhEmSUJ7nkweXB2u4KAqSUrYGWc4NlEnCdaqq\n",
       "ou12C8v3BnKFUp+HxCzNDpQpda+Ly7Kksepjr32/J8764QB0gaKUojRN77pGaSgYDx9wHzbGkFKK\n",
       "hlyrxBjrXc7o4QMcym4ilxDipvr0SWF6+KDuYXsbOuecjDGktaYsyzpV51aq48MHdC9rrVsHqLVu\n",
       "zcu4BsTDBzOGbVH7tjskyrK8iLrviop/+EDGMmPsqt43E9raAHv4IMaynUavPWPzwYH2DOCgHSyK\n",
       "gtI0pSRJSEoZJIvOqsSt56wNAXCxFwky+LZUQpd9ZtHZTL0hgEkpw4JgjBm09B0LiBBi0A1AjLGL\n",
       "IljeQRhzXepQQKwUNN9sH2lwVcL7LnK5XNLhcID1MdqUn+122yuN0JKb92RTCYHfqYP7/R4/fvyo\n",
       "U4mUUvjy5UuvXaS9duHsM74lATeWqkqpq0mmQ/nWzNCmrsB55RDvIAgheounD0C6vE7XvFFoLJyC\n",
       "2IR7qu8N3SV25UG7UyE6ltVN8LyDYEsEDjFWTbb50EmSEOe8nm0457XxvPYSmoC5om+NqWt8vYNA\n",
       "9HepKqWcPKO+TZqsZHZtuoJ1xgLBGJu0+ERzr2DZSkBbafWgHVqv1/XK0foAQ94aaLnL2A4uJ+L7\n",
       "7bjLaCFEkLumXVZK1XblVnL5JCC4kmE9yj4uu/TFMVcawP8B1noidGIVvV0AAAAASUVORK5CYII=\n",
       "\" transform=\"translate(0, 365)\"/>\n",
       "</g>\n",
       "<polyline clip-path=\"url(#clip9902)\" style=\"stroke:#666666; stroke-width:4; stroke-opacity:1; fill:none\" points=\"\n",
       "  509.868,771.39 1062.95,771.39 1062.95,111.385 509.868,111.385 509.868,771.39 \n",
       "  \"/>\n",
       "<polyline clip-path=\"url(#clip9902)\" style=\"stroke:#666666; stroke-width:4; stroke-opacity:1; fill:none\" points=\"\n",
       "  509.868,771.39 1062.95,771.39 1062.95,532.301 509.868,532.301 509.868,771.39 \n",
       "  \"/>\n",
       "<polyline clip-path=\"url(#clip9902)\" style=\"stroke:#666666; stroke-width:4; stroke-opacity:1; fill:none\" points=\"\n",
       "  509.868,771.39 1062.95,771.39 1912.54,350.474 1912.54,111.385 1359.46,111.385 509.868,532.301 509.868,771.39 \n",
       "  \"/>\n",
       "<polyline clip-path=\"url(#clip9902)\" style=\"stroke:#666666; stroke-width:4; stroke-opacity:1; fill:none\" points=\"\n",
       "  1359.46,350.474 1912.54,350.474 1912.54,111.385 1359.46,111.385 1359.46,350.474 \n",
       "  \"/>\n",
       "<polyline clip-path=\"url(#clip9902)\" style=\"stroke:#666666; stroke-width:4; stroke-opacity:1; fill:none\" points=\"\n",
       "  1359.46,350.474 2209.04,771.39 2762.13,771.39 2762.13,532.301 1912.54,111.385 1359.46,111.385 1359.46,350.474 \n",
       "  \"/>\n",
       "<polyline clip-path=\"url(#clip9902)\" style=\"stroke:#666666; stroke-width:4; stroke-opacity:1; fill:none\" points=\"\n",
       "  2209.04,771.39 2762.13,771.39 2762.13,532.301 2209.04,532.301 2209.04,771.39 \n",
       "  \"/>\n",
       "<polyline clip-path=\"url(#clip9902)\" style=\"stroke:#ff0000; stroke-width:4; stroke-opacity:1; fill:none\" points=\"\n",
       "  774.258,439.432 773.746,437.642 773.272,435.952 772.835,434.359 772.434,432.859 772.068,431.45 771.736,430.129 771.437,428.892 771.168,427.738 770.93,426.663 \n",
       "  770.722,425.666 770.541,424.744 770.388,423.896 770.26,423.12 770.158,422.414 770.08,421.778 770.025,421.209 769.993,420.708 769.981,420.273 769.99,419.903 \n",
       "  770.019,419.598 770.066,419.359 770.131,419.185 770.213,419.075 770.311,419.031 770.424,419.053 770.552,419.141 770.694,419.297 770.848,419.521 771.015,419.815 \n",
       "  771.194,420.18 771.383,420.617 771.583,421.129 771.792,421.717 772.011,422.384 772.237,423.131 772.472,423.962 772.714,424.879 772.962,425.884 773.217,426.981 \n",
       "  773.477,428.173 773.742,429.463 774.012,430.856 774.286,432.354 774.564,433.961 774.845,435.683 775.128,437.522 775.415,439.484 775.704,441.574 775.994,443.795 \n",
       "  776.286,446.154 776.579,448.654 776.873,451.303 777.167,454.104 777.462,457.065 777.757,460.19 778.052,463.487 778.346,466.961 778.64,470.618 778.934,474.466 \n",
       "  779.226,478.512 779.518,482.761 779.808,487.223 780.098,491.903 780.386,496.809 780.673,501.95 780.959,507.333 781.244,512.966 781.527,518.858 781.809,525.016 \n",
       "  782.09,531.451 782.37,538.169 782.648,545.181 782.926,552.496 783.203,560.123 783.475,567.947 783.721,575.468 783.939,582.627 784.137,589.415 784.338,595.815 \n",
       "  784.574,601.81 784.887,607.376 785.331,612.487 785.974,617.112 786.891,621.218 788.171,624.764 789.912,627.709 792.226,630.007 795.234,631.608 799.068,632.456 \n",
       "  803.872,632.494 809.802,631.66 817.024,629.888 825.715,627.108 836.064,623.246 848.271,618.223 862.547,611.959 879.114,604.368 898.205,595.359 920.066,584.84 \n",
       "  944.951,572.712 973.128,558.875 1004.87,543.222 1038.34,526.7 1067.92,512.096 1093.7,499.367 1116.13,488.292 1135.65,478.653 1152.71,470.227 1167.75,462.797 \n",
       "  1181.22,456.14 1193.57,450.037 1205.24,444.267 1216.67,438.61 1228.32,432.846 1240.63,426.753 1254.05,420.112 1269.02,412.702 1285.98,404.302 1305.39,394.692 \n",
       "  1327.68,383.65 1353.31,370.956 1382.72,356.39 1416.08,339.864 1447.94,324.081 1476.2,310.069 1501.15,297.69 1523.08,286.822 1542.26,277.349 1558.99,269.171 \n",
       "  1573.54,262.196 1586.19,256.344 1597.24,251.546 1606.95,247.745 1615.62,244.893 1623.53,242.956 1630.96,241.908 1638.19,241.737 1645.5,242.44 1653.19,244.026 \n",
       "  1661.52,246.516 1670.8,249.941 1681.28,254.342 1693.27,259.773 1707.04,266.299 1722.88,273.996 1741.07,282.95 1761.88,293.259 1785.62,305.032 1812.54,318.389 \n",
       "  1842.95,333.462 1876.59,350.128 1907.6,365.492 1934.66,378.897 1958.21,390.564 1978.69,400.713 1996.56,409.566 2012.26,417.342 2026.22,424.263 2038.91,430.549 \n",
       "  2050.77,436.422 2062.23,442.101 2073.75,447.809 2085.77,453.765 2098.74,460.191 2113.11,467.306 2129.31,475.333 2147.79,484.492 2169.01,495.003 2193.4,507.088 \n",
       "  2221.41,520.966 2253.49,536.86 2286.65,553.285 2316.16,567.907 2342.27,580.844 2365.25,592.23 2385.37,602.194 2402.86,610.86 2417.96,618.344 2430.91,624.759 \n",
       "  2441.92,630.211 2451.18,634.801 2458.9,638.625 2465.25,641.772 2470.41,644.327 2474.53,646.369 2477.76,647.969 2480.24,649.197 2482.09,650.114 2483.43,650.776 \n",
       "  2484.35,651.235 2484.96,651.535 2485.33,651.717 2485.52,651.815 2485.61,651.857 2485.63,651.866 2485.61,651.861 2485.6,651.852 2485.59,651.847 2485.58,651.846 \n",
       "  \n",
       "  \"/>\n",
       "<polyline clip-path=\"url(#clip9902)\" style=\"stroke:#2a51e0; stroke-width:4; stroke-opacity:1; fill:none\" points=\"\n",
       "  774.258,439.432 774.269,439.47 774.3,439.582 774.352,439.766 774.424,440.023 774.515,440.352 774.624,440.751 774.751,441.22 774.895,441.758 775.055,442.366 \n",
       "  775.232,443.042 775.424,443.786 775.631,444.599 775.852,445.479 776.088,446.426 776.337,447.442 776.599,448.524 776.874,449.675 777.161,450.892 777.461,452.178 \n",
       "  777.772,453.531 778.095,454.952 778.428,456.441 778.773,457.997 779.128,459.622 779.493,461.316 779.869,463.077 780.255,464.907 780.651,466.806 781.056,468.773 \n",
       "  781.472,470.808 781.897,472.912 782.331,475.083 782.775,477.322 783.229,479.629 783.692,482.002 784.165,484.441 784.648,486.946 785.141,489.515 785.644,492.147 \n",
       "  786.157,494.842 786.681,497.597 787.215,500.411 787.76,503.282 788.317,506.208 788.884,509.187 789.464,512.216 790.057,515.292 790.661,518.412 791.28,521.573 \n",
       "  791.911,524.769 792.557,527.998 793.218,531.254 793.893,534.532 794.585,537.827 795.293,541.132 796.019,544.442 796.763,547.748 797.525,551.043 798.307,554.32 \n",
       "  799.109,557.568 799.932,560.779 800.778,563.943 801.647,567.047 802.54,570.081 803.458,573.033 804.403,575.888 805.375,578.632 806.376,581.251 807.407,583.727 \n",
       "  808.469,586.044 809.564,588.184 810.693,590.126 811.857,591.851 813.058,593.336 815.604,595.785 819.29,598.562 823.374,600.814 827.904,602.521 832.933,603.664 \n",
       "  838.516,604.225 844.711,604.185 851.577,603.524 859.172,602.225 867.553,600.273 876.773,597.655 886.883,594.361 897.926,590.384 909.936,585.724 922.937,580.384 \n",
       "  936.94,574.377 951.941,567.723 967.914,560.451 984.815,552.601 1002.57,544.229 1021.07,535.401 1040.19,526.205 1059.73,516.746 1079.48,507.151 1099.14,497.572 \n",
       "  1118.39,488.192 1136.8,479.224 1153.89,470.918 1173.21,461.567 1192.46,452.297 1210.35,443.732 1227.25,435.703 1243.5,428.046 1259.42,420.61 1275.32,413.251 \n",
       "  1291.49,405.84 1308.18,398.263 1325.63,390.42 1344.03,382.233 1363.53,373.646 1384.25,364.63 1406.23,355.185 1429.47,345.347 1453.89,335.195 1479.31,324.854 \n",
       "  1505.48,314.505 1532.02,304.393 1558.41,294.838 1582.29,286.801 1599.59,281.6 1615.43,277.516 1630.02,274.482 1643.59,272.438 1656.36,271.33 1668.53,271.111 \n",
       "  1680.3,271.74 1691.87,273.18 1703.4,275.4 1715.06,278.371 1727.01,282.068 1739.39,286.468 1752.31,291.546 1765.87,297.281 1780.17,303.646 1795.24,310.613 \n",
       "  1811.14,318.149 1827.86,326.214 1845.36,334.759 1863.6,343.723 1882.45,353.032 1901.78,362.597 1921.37,372.307 1940.99,382.028 1960.3,391.6 1978.93,400.83 \n",
       "  1996.4,409.489 2014.2,418.304 2033.77,428.001 2051.82,436.945 2068.72,445.314 2084.79,453.276 2100.36,460.991 2115.74,468.612 2131.21,476.277 2147.03,484.114 \n",
       "  2163.42,492.235 2180.58,500.734 2198.64,509.686 2217.73,519.141 2237.88,529.123 2259.07,539.624 2281.23,550.599 2304.16,561.961 2327.6,573.574 2351.15,585.243 \n",
       "  2374.29,596.708 2396.34,607.632 2411.53,615.155 2424.21,621.437 2435.14,626.854 2444.51,631.495 2452.47,635.44 2459.19,638.767 2464.8,641.547 2469.44,643.847 \n",
       "  2473.24,645.728 2476.3,647.248 2478.75,648.458 2480.66,649.406 2482.13,650.135 2483.24,650.684 2484.05,651.087 2484.63,651.373 2485.03,651.569 2485.29,651.697 \n",
       "  2485.44,651.776 2485.53,651.82 2485.58,651.841 2485.59,651.849 2485.59,651.85 2485.59,651.849 2485.59,651.847 2485.59,651.846 2485.58,651.846 2485.58,651.846 \n",
       "  \n",
       "  \"/>\n",
       "<polygon clip-path=\"url(#clip9900)\" points=\"\n",
       "2692.74,360.204 3056.76,360.204 3056.76,178.764 2692.74,178.764 \n",
       "  \" fill=\"#ffffff\" fill-rule=\"evenodd\" fill-opacity=\"1\"/>\n",
       "<polyline clip-path=\"url(#clip9900)\" style=\"stroke:#000000; stroke-width:4; stroke-opacity:1; fill:none\" points=\"\n",
       "  2692.74,360.204 3056.76,360.204 3056.76,178.764 2692.74,178.764 2692.74,360.204 \n",
       "  \"/>\n",
       "<polyline clip-path=\"url(#clip9900)\" style=\"stroke:#ff0000; stroke-width:4; stroke-opacity:1; fill:none\" points=\"\n",
       "  2724.74,239.244 2916.74,239.244 \n",
       "  \"/>\n",
       "<g clip-path=\"url(#clip9900)\">\n",
       "<image width=\"44\" height=\"30\" xlink:href=\"data:image/png;base64,\n",
       "iVBORw0KGgoAAAANSUhEUgAAACwAAAAeCAYAAABXNvynAAAC30lEQVRYhb1Y7W3jMAx9PXQAISOw\n",
       "G7gdQd3A6AjqBkFHSDdwPYKQCeSOYGSCVCOw3oD9UdhHfys55wgQUFRZeiKfHqVCRDDl3nvJskwA\n",
       "CBFJURQyNa4oim6cMUastRJCmBy7hU92hhAEgHjvhZk7QM65Dkhd12KMkSzLJIQgzCwhBCEiASD7\n",
       "/f4moCc7iUi8992CRVEIAAEgdV2L914AyOFwGIFi5m7sXFY2Bey9FyKSYV8Loo32UtrzPO8osjXg\n",
       "PxhYWZZwzvX6Yoxd+3Q6oSgKPD8/3w2/be3p6QkA0DQN3t/fZW7cVTaVzvP53IuMc66L8DD6U64p\n",
       "lGXZplHuRfjz8xPGGDw8PNwN+1s7HA6rQWiapmvr7Gxh9/oHM4/o8P39LXpRa+3qpMzctTX4qqrk\n",
       "dDohxghmRtM0YGbsdjtUVdUF6ePjQ8qyRIwRRATnHF5fX3//vpYCfeBS6KAPXetz/cN5mVmstZ2W\n",
       "a2q1Mrm6uOav1uElN8bMbpKZpa5rsdaOxlhre/rdarre+Ori+iOtzXOudRiAWGsnvzmfzz3A3vvR\n",
       "2IsBDxcfqscahTBTXFrXgIlopO0hBGmz1Rah5MVTi8CQp0ubnOLxmo8KhzYtZynqAADH47FrZ1k2\n",
       "ksg5y/M8af5NAVdV1atqb29vSSCAv9Vx1bbkr1aUlAqn56/rOokSyYfnUnVI2eCl4xc5rOkA/Fa8\n",
       "pUzpClkURTJ3W9vtdmkD53Yy1MAledLZuOTirudn5uspMUzvfr+fTdu1YDcFPMVf51wn7m151Rf1\n",
       "a95xmwHWp12XS/0wbR+cKeX65oA1f5e4+69+DeCRSlxz//2fNgKs5cwYg8fHx4vk6da2CPiW0f36\n",
       "+urpeupT6n7YcUvAVVVJjBExxt4lqV3r5eVFiAjGGBDR9MtcE1pfqnFBuUz1uSfSlOd5Prn2HTNL\n",
       "WZZgZhyPRwwPHBGBiJDn+cXl9iamH3pLfot/O13jPxYpA020k6e3AAAAAElFTkSuQmCC\n",
       "\" transform=\"translate(2949, 224)\"/>\n",
       "</g>\n",
       "<polyline clip-path=\"url(#clip9900)\" style=\"stroke:#2a51e0; stroke-width:4; stroke-opacity:1; fill:none\" points=\"\n",
       "  2724.74,299.724 2916.74,299.724 \n",
       "  \"/>\n",
       "<g clip-path=\"url(#clip9900)\">\n",
       "<image width=\"38\" height=\"43\" xlink:href=\"data:image/png;base64,\n",
       "iVBORw0KGgoAAAANSUhEUgAAACYAAAArCAYAAAAUo/pwAAADMklEQVRYhcWY622rQBCFD9EtYKGE\n",
       "IRUgl7BJBSQl4A6slOASnJQAqQBawFQAW8JAB3N/OMsFg21wwHekkSzM42N2HmeBiGCOE5HMveYe\n",
       "f8IMOx6PYoyZc8ndNguMmaGUWoulZ46ITD65rmvxPA8i4qzIBGBGxKqqko+PDwCA7/viuq44jiOO\n",
       "44jruuL7viRJMv0tb9mtJEzTVLTWAqDnh8OhLYKyLCUIAlFKLVYYV//c7/c9GKWUpGkqYRgOQIMg\n",
       "kDRN1wc7f3gYhoOHMvNqrWNSpIIgeEjvugpWluVg+daMzGSw8yXc7/cPhxKRYR9zHKd3gJnhuu7q\n",
       "fevcen2sqqoeVBAE/wUKuNFgN5vNozgG1gPzfb8XHWZ+LE3HBhGLoqj9/SglMWpjFUFEbVXmef5f\n",
       "qnL0IDNLEAQCQIhIoihqZyE6/Y2IejNzSR9Nftd1HSKCUgpaa+R5jqIo0DRNq8eapgEAeJ63ykr+\n",
       "OT9QVZW8vr5CKQVjTK9d1HUtFvzaTbMsk6IoYIwBM6NpGjAzPM9DlmXttZ+fn/L19QVjDIgIURRh\n",
       "u92e/u+GL89zUUpJFEW/Wp4x9YGftLCporUWrbWkaSqHw6E9Z7fbSS/HmFmUUosNbGaWPM97Ws6C\n",
       "aa1bgPNiO8WqA6a1XmVgd0UBEUkcx6K17j3jIpgN5VoDuwtGRANBmaZpW/G2yiEisAfXkjdjeXbL\n",
       "n5IkkaZpoLV+yMAOw3DSeU9xHAM4KYlH2FRh8FQUBYB/DXNtI6JpJ9r8WnLrdS3HyrKclmP2DZqm\n",
       "wdvb23Ib1gs2eYSN7YiWVhTd+0+t/NEGZwHjOF4E8G6wsixlDA4/uRdF0eTcWBTM+qXh243iPfrr\n",
       "12Aip+G72+16onDM5yiQRcC6bgfuJTgimvSgxcGsl2V5MYpd+fJwsPModgvlXMKMvVQXbGormvWp\n",
       "05r95AmchnKSJL3hn2WZGGNgjMH393dvG6iUwvv7O+yegojw8vIyFA9zI2bdRm1Mw92q7q6PfXe7\n",
       "upTMLGEYjvYvZl59vl78duG6rrPZbPD8/IztditZlkld13I8HkVrDaUUrGRaxaZWZHcDfCmSS/pf\n",
       "8KPer66PO0wAAAAASUVORK5CYII=\n",
       "\" transform=\"translate(2949, 278)\"/>\n",
       "</g>\n",
       "</svg>\n"
      ]
     },
     "execution_count": 135,
     "metadata": {},
     "output_type": "execute_result"
    }
   ],
   "source": [
    "generator = icptraj\n",
    "Δts = generator.Δts\n",
    "ts = range(0.0, sum(Δts), length=200)\n",
    "xlim = [-0.2, 1.1]\n",
    "ylim = [-0.2, 0.2]\n",
    "width = 800\n",
    "height = round(Int, width * diff(ylim)[1] / diff(xlim)[1])\n",
    "plt = plot(xlabel = raw\"$x\\textrm{ (m)}$\", ylabel = raw\"$y\\textrm{ (m)}$\", xlim = xlim, ylim = ylim, size = (width, height), bottom_margin=10px)\n",
    "cops = QPWalkingControl.cop.(Ref(generator), ts)\n",
    "\n",
    "for i in 1 : generator.num_active_segments[]\n",
    "    hull = statemachine.contact_plan.subfunctions[i].value.support_polygon\n",
    "    points = push!(copy(vertices(hull)), first(vertices(hull)))\n",
    "    plot!(plt, getindex.(points, 1), getindex.(points, 2), label=\"\", color=RGB(0.4, 0.4, 0.4))\n",
    "end\n",
    "savefig(plt, \"/home/twan/Dropbox/thesis/control/figures/overhead_footstep_plan.pdf\")\n",
    "plot!(plt, getindex.(cops, 1), getindex.(cops, 2), label = raw\"$p_{\\textrm{r}}$\", color=RGB(1., 0., 0.))\n",
    "icps = first.(generator.(ts))\n",
    "plot!(plt, getindex.(icps, 1), getindex.(icps, 2), label = raw\"$\\xi_{\\textrm{r}}$\", color=RGB((42, 81, 224)./255...))\n",
    "savefig(plt, \"/home/twan/Dropbox/thesis/control/figures/overhead_icp_trajectory.pdf\")\n",
    "plt"
   ]
  },
  {
   "cell_type": "code",
   "execution_count": 45,
   "metadata": {},
   "outputs": [
    {
     "name": "stdout",
     "output_type": "stream",
     "text": [
      " 19.018401 seconds (21.36 M allocations: 1.342 GiB, 9.34% gc time)\n"
     ]
    },
    {
     "data": {
      "text/plain": [
       "18.0"
      ]
     },
     "execution_count": 45,
     "metadata": {},
     "output_type": "execute_result"
    }
   ],
   "source": [
    "# simulate\n",
    "QPWalkingControl.init_footstep_plan!(statemachine, nominalstate, foot_polygons);\n",
    "@time sol = solve(problem, Tsit5(), abs_tol = 1e-8, dt = 1e-6);\n",
    "last(sol.t)"
   ]
  },
  {
   "cell_type": "code",
   "execution_count": 46,
   "metadata": {},
   "outputs": [],
   "source": [
    "setanimation!(vis, Animation(mvis, sol; fps=100))"
   ]
  },
  {
   "cell_type": "code",
   "execution_count": 47,
   "metadata": {},
   "outputs": [
    {
     "data": {
      "text/plain": [
       "\u001b[32m\u001b[1mTest Passed\u001b[22m\u001b[39m"
      ]
     },
     "execution_count": 47,
     "metadata": {},
     "output_type": "execute_result"
    }
   ],
   "source": [
    "using Test\n",
    "copyto!(state, last(sol.u))\n",
    "@test last(sol.t) == last(tspan)\n",
    "@test center_of_mass(state).v[1] > 1.5\n",
    "@test center_of_mass(state).v[3] > 0.7"
   ]
  },
  {
   "cell_type": "code",
   "execution_count": 48,
   "metadata": {},
   "outputs": [],
   "source": [
    "# using BenchmarkTools\n",
    "# AtlasRobot.setnominal!(state)\n",
    "# τ = similar(velocity(state));\n",
    "# benchresult = @benchmark $controller($τ, 0.0, $state)\n",
    "# @test benchresult.allocs == 0\n",
    "# benchresult"
   ]
  },
  {
   "cell_type": "code",
   "execution_count": null,
   "metadata": {},
   "outputs": [],
   "source": []
  }
 ],
 "metadata": {
  "@webio": {
   "lastCommId": null,
   "lastKernelId": null
  },
  "kernelspec": {
   "display_name": "Julia 1.1.1",
   "language": "julia",
   "name": "julia-1.1"
  },
  "language_info": {
   "file_extension": ".jl",
   "mimetype": "application/julia",
   "name": "julia",
   "version": "1.1.1"
  }
 },
 "nbformat": 4,
 "nbformat_minor": 2
}
