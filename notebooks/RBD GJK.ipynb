{
 "cells": [
  {
   "cell_type": "code",
   "execution_count": 1,
   "metadata": {},
   "outputs": [
    {
     "name": "stderr",
     "output_type": "stream",
     "text": [
      "┌ Info: Recompiling stale cache file /home/twan/.julia/compiled/v1.1/RigidBodyDynamics/WeevQ.ji for RigidBodyDynamics [366cf18f-59d5-5db9-a4de-86a9f6786172]\n",
      "└ @ Base loading.jl:1184\n",
      "┌ Info: Recompiling stale cache file /home/twan/.julia/compiled/v1.1/MeshCatMechanisms/dGmNl.ji for MeshCatMechanisms [6ad125db-dd91-5488-b820-c1df6aab299d]\n",
      "└ @ Base loading.jl:1184\n"
     ]
    },
    {
     "data": {
      "text/html": [
       "    <script class='js-collapse-script'>\n",
       "        var curMatch =\n",
       "            window.location.href\n",
       "            .match(/(.*?)\\/notebooks\\/.*\\.ipynb/);\n",
       "\n",
       "        curMatch = curMatch ||\n",
       "            window.location.href\n",
       "            .match(/(.*?)\\/apps\\/.*\\.ipynb/);\n",
       "\n",
       "        if ( curMatch ) {\n",
       "            $('head').append('<base href=\"' + curMatch[1] + '/\">');\n",
       "        }\n",
       "    </script>\n"
      ],
      "text/plain": [
       "HTML{String}(\"    <script class='js-collapse-script'>\\n        var curMatch =\\n            window.location.href\\n            .match(/(.*?)\\\\/notebooks\\\\/.*\\\\.ipynb/);\\n\\n        curMatch = curMatch ||\\n            window.location.href\\n            .match(/(.*?)\\\\/apps\\\\/.*\\\\.ipynb/);\\n\\n        if ( curMatch ) {\\n            \\$('head').append('<base href=\\\"' + curMatch[1] + '/\\\">');\\n        }\\n    </script>\\n\")"
      ]
     },
     "metadata": {},
     "output_type": "display_data"
    },
    {
     "data": {
      "text/html": [
       "<script class='js-collapse-script' src='/assetserver/29d4a42ceb6d03d53ba5feb8981c0eb5bceb5139-assets/webio/dist/bundle.js'></script>"
      ],
      "text/plain": [
       "HTML{String}(\"<script class='js-collapse-script' src='/assetserver/29d4a42ceb6d03d53ba5feb8981c0eb5bceb5139-assets/webio/dist/bundle.js'></script>\")"
      ]
     },
     "metadata": {},
     "output_type": "display_data"
    },
    {
     "data": {
      "text/html": [
       "<script class='js-collapse-script' src='/assetserver/29d4a42ceb6d03d53ba5feb8981c0eb5bceb5139-assets/providers/ijulia_setup.js'></script>"
      ],
      "text/plain": [
       "HTML{String}(\"<script class='js-collapse-script' src='/assetserver/29d4a42ceb6d03d53ba5feb8981c0eb5bceb5139-assets/providers/ijulia_setup.js'></script>\")"
      ]
     },
     "metadata": {},
     "output_type": "display_data"
    },
    {
     "data": {
      "text/html": [
       "  <script class='js-collapse-script'>\n",
       "    $('.js-collapse-script').parent('.output_subarea').css('padding', '0');\n",
       "  </script>\n"
      ],
      "text/plain": [
       "HTML{String}(\"  <script class='js-collapse-script'>\\n    \\$('.js-collapse-script').parent('.output_subarea').css('padding', '0');\\n  </script>\\n\")"
      ]
     },
     "metadata": {},
     "output_type": "display_data"
    }
   ],
   "source": [
    "using Pkg\n",
    "Pkg.activate(@__DIR__)\n",
    "using RigidBodyDynamics, RigidBodyDynamics.Contact, RigidBodyDynamics.OdeIntegrators\n",
    "using EnhancedGJK\n",
    "using StaticArrays\n",
    "using CoordinateTransformations\n",
    "using Rotations\n",
    "using MeshCatMechanisms, MeshCat\n",
    "using GeometryTypes\n",
    "using RigidBodyDynamics: transform, frame_definition\n",
    "# using Polyhedra"
   ]
  },
  {
   "cell_type": "code",
   "execution_count": 2,
   "metadata": {},
   "outputs": [],
   "source": [
    "# struct AbstractTypeDict end\n",
    "\n",
    "# @inline function Base.getindex(d::AbstractTypeDict, ::Type{T}) where {T}\n",
    "#     ReturnType = predict_type(d, T)\n",
    "#     id = objectid(T)\n",
    "#     ids = keys(d)\n",
    "#     vals = values(d)\n",
    "#     @inbounds for i in eachindex(ids)\n",
    "#         if ids[i] === id\n",
    "#             return vals[i]::ReturnType\n",
    "#         end\n",
    "#     end\n",
    "#     val = make_value(d, T)::ReturnType\n",
    "#     push!(ids, id)\n",
    "#     push!(vals, val)\n",
    "#     val::ReturnType\n",
    "# end"
   ]
  },
  {
   "cell_type": "code",
   "execution_count": 3,
   "metadata": {},
   "outputs": [],
   "source": [
    "# struct SimilarTypeDict{V} <: AbstractTypeDict\n",
    "#     keys::Vector{UInt}\n",
    "#     values::Vector{V}\n",
    "# end\n",
    "\n",
    "# function SimilarTypeDict{V}(base_value, ::Type{T}=eltype(base_value))\n",
    "# end\n",
    "\n",
    "# Base.keys(d::SimilarTypeDict) = d.keys\n",
    "# Base.values(d::SimilarTypeDict) = d.values\n",
    "# predict_type(::SimilarTypeDict{V}, ::Type{T}) where {V, T} = V{T}\n"
   ]
  },
  {
   "cell_type": "code",
   "execution_count": 4,
   "metadata": {},
   "outputs": [],
   "source": [
    "# struct SimilarTypeDict{V, S, P}\n",
    "#     keys::Vector{UInt}\n",
    "#     values::Vector{V}\n",
    "#     similar::S\n",
    "#     predict_type::P\n",
    "# end\n",
    "\n",
    "# function SimilarTypeDict{V}(base_value, ::Type{T}=eltype(base_value);\n",
    "#         similar::S=similar, predict_type::P=T -> V{T}) where {V, S, P, T}\n",
    "#     key = objectid(T)\n",
    "#     return SimilarTypeDict{V, S, P}([key], [base_value], similar, predict_type)\n",
    "# end"
   ]
  },
  {
   "cell_type": "code",
   "execution_count": 5,
   "metadata": {},
   "outputs": [],
   "source": [
    "# using BenchmarkTools\n",
    "# d = SimilarTypeDict{Vector}(rand(3));\n",
    "# @btime $d[Int]\n",
    "# @btime $d[BigInt]"
   ]
  },
  {
   "cell_type": "code",
   "execution_count": 6,
   "metadata": {},
   "outputs": [
    {
     "data": {
      "text/plain": [
       "MechanismState{Float64, Float64, Float64, …}(…)"
      ]
     },
     "execution_count": 6,
     "metadata": {},
     "output_type": "execute_result"
    }
   ],
   "source": [
    "urdf = joinpath(dirname(pathof(RigidBodyDynamics)), \"..\", \"test\", \"urdf\", \"Acrobot.urdf\")\n",
    "mechanism = parse_urdf(urdf)\n",
    "world = root_body(mechanism)\n",
    "worldframe = root_frame(mechanism)\n",
    "state = MechanismState(mechanism)"
   ]
  },
  {
   "cell_type": "code",
   "execution_count": 7,
   "metadata": {},
   "outputs": [],
   "source": [
    "# Base.similar(state::MechanismState, ::Type{T}) where {T} = MechanismState{T}(state.mechanism)\n",
    "# predict_type()\n",
    "# d = SimilarTypeDict{MechanismState{X, Float64, X, typeof(state.treejoints)} where {M, C, JointCollection} where X}(state)"
   ]
  },
  {
   "cell_type": "code",
   "execution_count": 8,
   "metadata": {},
   "outputs": [],
   "source": [
    "# using BenchmarkTools\n",
    "# @btime $d[Float64]"
   ]
  },
  {
   "cell_type": "code",
   "execution_count": 9,
   "metadata": {},
   "outputs": [
    {
     "data": {
      "text/plain": [
       "Point3D in \"tip\": [0.0, 0.0, 0.0]"
      ]
     },
     "execution_count": 9,
     "metadata": {},
     "output_type": "execute_result"
    }
   ],
   "source": [
    "lower_link = last(bodies(mechanism))\n",
    "tipframe = CartesianFrame3D(\"tip\")\n",
    "add_frame!(lower_link, Transform3D(tipframe, default_frame(lower_link), SVector(0.0, 0.0, -2.05)))\n",
    "tip = Point3D(tipframe, zero(SVector{3}))"
   ]
  },
  {
   "cell_type": "code",
   "execution_count": 10,
   "metadata": {},
   "outputs": [
    {
     "data": {
      "text/plain": [
       "Transform3D from \"plane\" to \"world\":\n",
       "rotation: 0.3 rad about [1.62667e-62, 1.0, 0.0], translation: [0.0, 0.0, -0.5]"
      ]
     },
     "execution_count": 10,
     "metadata": {},
     "output_type": "execute_result"
    }
   ],
   "source": [
    "boxframe = CartesianFrame3D(\"box\")\n",
    "add_frame!(world, Transform3D(boxframe, worldframe, RotY(-3e-1), SVector(2.5, 0, -0.5)))\n",
    "planeframe = CartesianFrame3D(\"plane\")\n",
    "add_frame!(world, Transform3D(planeframe, worldframe, RotY(3e-1), SVector(0, 0, -0.5)))"
   ]
  },
  {
   "cell_type": "code",
   "execution_count": 11,
   "metadata": {},
   "outputs": [
    {
     "data": {
      "text/plain": [
       "HalfSpace{3,Float64}([0.0, 0.0, 1.0], -1.5)"
      ]
     },
     "execution_count": 11,
     "metadata": {},
     "output_type": "execute_result"
    }
   ],
   "source": [
    "widths = Vec(1.5, 1, 0.3)\n",
    "c1 = HyperRectangle(-widths / 2, widths)\n",
    "c2 = HalfSpace(SVector(0., 0., 1.), -1.5)"
   ]
  },
  {
   "cell_type": "code",
   "execution_count": 12,
   "metadata": {},
   "outputs": [
    {
     "data": {
      "text/plain": [
       "MechanismVisualizer{MechanismState{Float64,Float64,Float64,TypeSortedCollections.TypeSortedCollection{Tuple{Array{Joint{Float64,Revolute{Float64}},1}},1}},Visualizer}(MechanismState{Float64, Float64, Float64, …}(…), MeshCat Visualizer with path /meshcat, 5)"
      ]
     },
     "execution_count": 12,
     "metadata": {},
     "output_type": "execute_result"
    }
   ],
   "source": [
    "if !(@isdefined mvis) || mvis.state != state || !any(isopen, mvis.visualizer.core.scope.pool.connections)\n",
    "    mvis = MechanismVisualizer(state, URDFVisuals(urdf))\n",
    "#     open(mvis)\n",
    "end"
   ]
  },
  {
   "cell_type": "code",
   "execution_count": 13,
   "metadata": {},
   "outputs": [],
   "source": [
    "set_configuration!(state, [-pi / 2, -1.]) # well out of contact\n",
    "# set_configuration!(state, [-0.61, -1.36]) # in contact\n",
    "set_configuration!(mvis, configuration(state))\n",
    "rand_velocity!(state)\n",
    "x0 = Vector(state);"
   ]
  },
  {
   "cell_type": "code",
   "execution_count": 14,
   "metadata": {},
   "outputs": [
    {
     "data": {
      "text/plain": [
       "MeshCat Visualizer with path /meshcat/closest point"
      ]
     },
     "execution_count": 14,
     "metadata": {},
     "output_type": "execute_result"
    }
   ],
   "source": [
    "setelement!(mvis, tipframe)\n",
    "setelement!(mvis, tip, 0.03, \"tip\")\n",
    "boxvis = mvis.visualizer[\"box\"]\n",
    "setobject!(boxvis, c1)\n",
    "settransform!(boxvis, AffineMap(frame_definition(world, boxframe)))\n",
    "closest_point_vis = mvis.visualizer[\"closest point\"]\n",
    "setobject!(closest_point_vis, Sphere(Point(0., 0, 0), 0.03))"
   ]
  },
  {
   "cell_type": "code",
   "execution_count": 15,
   "metadata": {},
   "outputs": [],
   "source": [
    "for i = 1 : 4\n",
    "    setobject!(mvis.visualizer[\"simplex_point_$i\"], Sphere(Point(0., 0, 0), 0.03))\n",
    "end"
   ]
  },
  {
   "cell_type": "code",
   "execution_count": 16,
   "metadata": {},
   "outputs": [],
   "source": [
    "contact_model = ContactModel()\n",
    "points = CollisionElement[]\n",
    "push!(points, CollisionElement(lower_link, tipframe, Point(0., 0, 0)))\n",
    "push!(contact_model, points)\n",
    "environment = CollisionElement[]\n",
    "push!(environment, CollisionElement(world, boxframe, c1))\n",
    "push!(environment, CollisionElement(world, planeframe, c2))\n",
    "push!(contact_model, environment)\n",
    "normal_model = hunt_crossley_hertz(; k=50e3, α = 0.2)\n",
    "tangential_model = ViscoelasticCoulombModel(0.5, 1e3, 1e3)\n",
    "contact_force_model = SplitContactForceModel(normal_model, tangential_model)\n",
    "set_contact_force_model!(contact_model, points, environment, contact_force_model);"
   ]
  },
  {
   "cell_type": "code",
   "execution_count": 17,
   "metadata": {},
   "outputs": [
    {
     "data": {
      "text/plain": [
       "SoftContactResult{Float64}(…)"
      ]
     },
     "execution_count": 17,
     "metadata": {},
     "output_type": "execute_result"
    }
   ],
   "source": [
    "contact_state = SoftContactState(contact_model)\n",
    "contact_result = SoftContactResult(mechanism, contact_model)"
   ]
  },
  {
   "cell_type": "code",
   "execution_count": 28,
   "metadata": {},
   "outputs": [
    {
     "data": {
      "text/plain": [
       "(MechanismState{Float64, Float64, Float64, …}(…),)"
      ]
     },
     "execution_count": 28,
     "metadata": {},
     "output_type": "execute_result"
    }
   ],
   "source": [
    "s = (state,)"
   ]
  },
  {
   "cell_type": "code",
   "execution_count": 29,
   "metadata": {},
   "outputs": [
    {
     "name": "stdout",
     "output_type": "stream",
     "text": [
      "\n",
      ";  @ /home/twan/.julia/dev/RigidBodyDynamics/src/simulate.jl:18 within `has_additional_state'\n",
      "define i8 @julia_has_additional_state_15043(%jl_value_t addrspace(10)*) {\n",
      "top:\n",
      "  ret i8 0\n",
      "}\n"
     ]
    }
   ],
   "source": [
    "@code_llvm OdeIntegrators.has_additional_state(typeof(s))"
   ]
  },
  {
   "cell_type": "code",
   "execution_count": 21,
   "metadata": {},
   "outputs": [
    {
     "ename": "MethodError",
     "evalue": "MethodError: no method matching RigidBodyDynamics.CombinedState(::Tuple{MechanismState{Float64,Float64,Float64,TypeSortedCollections.TypeSortedCollection{Tuple{Array{Joint{Float64,Revolute{Float64}},1}},1}},SoftContactState{Float64,TypeSortedCollections.TypeSortedCollection{Tuple{Array{RigidBodyDynamics.Contact.CollidablePair{CollisionElement{Transform3D{Float64},Point{3,Float64}},CollisionElement{Transform3D{Float64},HyperRectangle{3,Float64}},SplitContactForceModel{HuntCrossleyModel{Float64},ViscoelasticCoulombModel{Float64}}},1},Array{RigidBodyDynamics.Contact.CollidablePair{CollisionElement{Transform3D{Float64},Point{3,Float64}},CollisionElement{Transform3D{Float64},HalfSpace{3,Float64}},SplitContactForceModel{HuntCrossleyModel{Float64},ViscoelasticCoulombModel{Float64}}},1}},2},TypeSortedCollections.TypeSortedCollection{Tuple{Array{CollisionCache{Point{3,Float64},HyperRectangle{3,Float64},4,EnhancedGJK.Difference{EnhancedGJK.Tagged{SArray{Tuple{3},Float64,1,3},Nothing},EnhancedGJK.Tagged{SArray{Tuple{3},Float64,1,3},Nothing}}},1},Array{Pair{Point{3,Float64},HalfSpace{3,Float64}},1}},2}},MechanismState{Float64,Float64,Float64,TypeSortedCollections.TypeSortedCollection{Tuple{Array{Joint{Float64,Revolute{Float64}},1}},1}},SoftContactState{Float64,TypeSortedCollections.TypeSortedCollection{Tuple{Array{RigidBodyDynamics.Contact.CollidablePair{CollisionElement{Transform3D{Float64},Point{3,Float64}},CollisionElement{Transform3D{Float64},HyperRectangle{3,Float64}},SplitContactForceModel{HuntCrossleyModel{Float64},ViscoelasticCoulombModel{Float64}}},1},Array{RigidBodyDynamics.Contact.CollidablePair{CollisionElement{Transform3D{Float64},Point{3,Float64}},CollisionElement{Transform3D{Float64},HalfSpace{3,Float64}},SplitContactForceModel{HuntCrossleyModel{Float64},ViscoelasticCoulombModel{Float64}}},1}},2},TypeSortedCollections.TypeSortedCollection{Tuple{Array{CollisionCache{Point{3,Float64},HyperRectangle{3,Float64},4,EnhancedGJK.Difference{EnhancedGJK.Tagged{SArray{Tuple{3},Float64,1,3},Nothing},EnhancedGJK.Tagged{SArray{Tuple{3},Float64,1,3},Nothing}}},1},Array{Pair{Point{3,Float64},HalfSpace{3,Float64}},1}},2}}})",
     "output_type": "error",
     "traceback": [
      "MethodError: no method matching RigidBodyDynamics.CombinedState(::Tuple{MechanismState{Float64,Float64,Float64,TypeSortedCollections.TypeSortedCollection{Tuple{Array{Joint{Float64,Revolute{Float64}},1}},1}},SoftContactState{Float64,TypeSortedCollections.TypeSortedCollection{Tuple{Array{RigidBodyDynamics.Contact.CollidablePair{CollisionElement{Transform3D{Float64},Point{3,Float64}},CollisionElement{Transform3D{Float64},HyperRectangle{3,Float64}},SplitContactForceModel{HuntCrossleyModel{Float64},ViscoelasticCoulombModel{Float64}}},1},Array{RigidBodyDynamics.Contact.CollidablePair{CollisionElement{Transform3D{Float64},Point{3,Float64}},CollisionElement{Transform3D{Float64},HalfSpace{3,Float64}},SplitContactForceModel{HuntCrossleyModel{Float64},ViscoelasticCoulombModel{Float64}}},1}},2},TypeSortedCollections.TypeSortedCollection{Tuple{Array{CollisionCache{Point{3,Float64},HyperRectangle{3,Float64},4,EnhancedGJK.Difference{EnhancedGJK.Tagged{SArray{Tuple{3},Float64,1,3},Nothing},EnhancedGJK.Tagged{SArray{Tuple{3},Float64,1,3},Nothing}}},1},Array{Pair{Point{3,Float64},HalfSpace{3,Float64}},1}},2}},MechanismState{Float64,Float64,Float64,TypeSortedCollections.TypeSortedCollection{Tuple{Array{Joint{Float64,Revolute{Float64}},1}},1}},SoftContactState{Float64,TypeSortedCollections.TypeSortedCollection{Tuple{Array{RigidBodyDynamics.Contact.CollidablePair{CollisionElement{Transform3D{Float64},Point{3,Float64}},CollisionElement{Transform3D{Float64},HyperRectangle{3,Float64}},SplitContactForceModel{HuntCrossleyModel{Float64},ViscoelasticCoulombModel{Float64}}},1},Array{RigidBodyDynamics.Contact.CollidablePair{CollisionElement{Transform3D{Float64},Point{3,Float64}},CollisionElement{Transform3D{Float64},HalfSpace{3,Float64}},SplitContactForceModel{HuntCrossleyModel{Float64},ViscoelasticCoulombModel{Float64}}},1}},2},TypeSortedCollections.TypeSortedCollection{Tuple{Array{CollisionCache{Point{3,Float64},HyperRectangle{3,Float64},4,EnhancedGJK.Difference{EnhancedGJK.Tagged{SArray{Tuple{3},Float64,1,3},Nothing},EnhancedGJK.Tagged{SArray{Tuple{3},Float64,1,3},Nothing}}},1},Array{Pair{Point{3,Float64},HalfSpace{3,Float64}},1}},2}}})",
      "",
      "Stacktrace:",
      " [1] top-level scope at In[21]:1"
     ]
    }
   ],
   "source": [
    "s = RigidBodyDynamics.CombinedState((state, contact_state, state, contact_state));"
   ]
  },
  {
   "cell_type": "code",
   "execution_count": null,
   "metadata": {},
   "outputs": [],
   "source": [
    "Od"
   ]
  },
  {
   "cell_type": "code",
   "execution_count": 20,
   "metadata": {},
   "outputs": [
    {
     "data": {
      "text/plain": [
       "svec(Tuple{MechanismState{Float64,Float64,Float64,TypeSortedCollection{Tuple{Array{Joint{Float64,Revolute{Float64}},1}},1}},SoftContactState{Float64,TypeSortedCollection{Tuple{Array{CollidablePair{CollisionElement{Transform3D{Float64},Point{3,Float64}},CollisionElement{Transform3D{Float64},HyperRectangle{3,Float64}},SplitContactForceModel{HuntCrossleyModel{Float64},ViscoelasticCoulombModel{Float64}}},1},Array{CollidablePair{CollisionElement{Transform3D{Float64},Point{3,Float64}},CollisionElement{Transform3D{Float64},HalfSpace{3,Float64}},SplitContactForceModel{HuntCrossleyModel{Float64},ViscoelasticCoulombModel{Float64}}},1}},2},TypeSortedCollection{Tuple{Array{CollisionCache{Point{3,Float64},HyperRectangle{3,Float64},4,Difference{Tagged{SArray{Tuple{3},Float64,1,3},Nothing},Tagged{SArray{Tuple{3},Float64,1,3},Nothing}}},1},Array{Pair{Point{3,Float64},HalfSpace{3,Float64}},1}},2}},MechanismState{Float64,Float64,Float64,TypeSortedCollection{Tuple{Array{Joint{Float64,Revolute{Float64}},1}},1}},SoftContactState{Float64,TypeSortedCollection{Tuple{Array{CollidablePair{CollisionElement{Transform3D{Float64},Point{3,Float64}},CollisionElement{Transform3D{Float64},HyperRectangle{3,Float64}},SplitContactForceModel{HuntCrossleyModel{Float64},ViscoelasticCoulombModel{Float64}}},1},Array{CollidablePair{CollisionElement{Transform3D{Float64},Point{3,Float64}},CollisionElement{Transform3D{Float64},HalfSpace{3,Float64}},SplitContactForceModel{HuntCrossleyModel{Float64},ViscoelasticCoulombModel{Float64}}},1}},2},TypeSortedCollection{Tuple{Array{CollisionCache{Point{3,Float64},HyperRectangle{3,Float64},4,Difference{Tagged{SArray{Tuple{3},Float64,1,3},Nothing},Tagged{SArray{Tuple{3},Float64,1,3},Nothing}}},1},Array{Pair{Point{3,Float64},HalfSpace{3,Float64}},1}},2}}})"
      ]
     },
     "execution_count": 20,
     "metadata": {},
     "output_type": "execute_result"
    }
   ],
   "source": [
    "typeof(s).parameters"
   ]
  },
  {
   "cell_type": "code",
   "execution_count": null,
   "metadata": {},
   "outputs": [],
   "source": [
    "@code_native OdeIntegrators.has_configuration_velocity(s)"
   ]
  },
  {
   "cell_type": "code",
   "execution_count": 38,
   "metadata": {},
   "outputs": [
    {
     "name": "stdout",
     "output_type": "stream",
     "text": [
      "Body\u001b[36m::Bool\u001b[39m\n",
      "\u001b[90m1 ─\u001b[39m     return true\n"
     ]
    }
   ],
   "source": [
    "@code_warntype OdeIntegrators.has_configuration_velocity(typeof(s))"
   ]
  },
  {
   "cell_type": "code",
   "execution_count": 96,
   "metadata": {},
   "outputs": [],
   "source": [
    "# Contact.contact_dynamics!(contact_result, contact_state, state)\n",
    "# contact_result.wrenches[BodyID(3)]"
   ]
  },
  {
   "cell_type": "code",
   "execution_count": 97,
   "metadata": {},
   "outputs": [],
   "source": [
    "# Base.show(io::IO, c::Core.Compiler.Const) = print(io, \"Const(\", repr(c.val), \")\")\n",
    "# @code_warntype Contact.contact_dynamics!(contact_result, contact_state, state);"
   ]
  },
  {
   "cell_type": "code",
   "execution_count": 98,
   "metadata": {},
   "outputs": [],
   "source": [
    "# using BenchmarkTools\n",
    "# @btime Contact.contact_dynamics!($contact_result, $contact_state, $state);"
   ]
  },
  {
   "cell_type": "code",
   "execution_count": 99,
   "metadata": {},
   "outputs": [
    {
     "name": "stdout",
     "output_type": "stream",
     "text": [
      "result.signed_distance = 1.3494488524296564\n",
      "  74.566 ns (1 allocation: 496 bytes)\n",
      "  71.034 ns (1 allocation: 496 bytes)\n"
     ]
    },
    {
     "data": {
      "text/plain": [
       "GJKResult{4,3,Float64}(SArray{Tuple{3},Float64,1,3}[[0.364235, -0.379813, -1.24261], [0.364235, -0.379813, -1.24261], [0.364235, -0.379813, -1.24261], [0.364235, -0.379813, -1.24261]], EnhancedGJK.Difference{SArray{Tuple{3},Float64,1,3},SArray{Tuple{3},Float64,1,3}}([0.364235, 0.620187, 0.757387], [0.0, 0.0, 0.0]), 1.3494488524296564)"
      ]
     },
     "execution_count": 99,
     "metadata": {},
     "output_type": "execute_result"
    }
   ],
   "source": [
    "using EnhancedGJK\n",
    "using GeometryTypes: HyperRectangle, Vec, Point\n",
    "import StaticArrays: SVector\n",
    "import CoordinateTransformations: IdentityTransformation, Translation\n",
    "\n",
    "# widths = Vec(1.5, 1, 0.3)\n",
    "# c = HyperRectangle(-widths / 2, widths)\n",
    "c = Point(rand(), rand(), rand())\n",
    "cache = CollisionCache(c, zero(SVector{3}));\n",
    "result = gjk!(cache, IdentityTransformation(), Translation(0., 1., 2.))\n",
    "\n",
    "# result.signed_distance will be > 0 if the objects are not in contact\n",
    "# and <= 0 if they are in collision.\n",
    "@show result.signed_distance\n",
    "closest_point = result.closest_point_in_body.a\n",
    "\n",
    "using BenchmarkTools\n",
    "@btime gjk!($cache, IdentityTransformation(), Translation(0., 1., 2.))\n",
    "using Profile; Profile.clear_malloc_data()\n",
    "@btime gjk!($cache, IdentityTransformation(), Translation(0., 1., 2.))"
   ]
  },
  {
   "cell_type": "code",
   "execution_count": 100,
   "metadata": {},
   "outputs": [
    {
     "name": "stdout",
     "output_type": "stream",
     "text": [
      "  73.655 ns (1 allocation: 496 bytes)\n"
     ]
    },
    {
     "data": {
      "text/plain": [
       "GJKResult{4,3,Float64}(SArray{Tuple{3},Float64,1,3}[[0.364235, -0.379813, -1.24261], [0.364235, -0.379813, -1.24261], [0.364235, -0.379813, -1.24261], [0.364235, -0.379813, -1.24261]], EnhancedGJK.Difference{SArray{Tuple{3},Float64,1,3},SArray{Tuple{3},Float64,1,3}}([0.364235, 0.620187, 0.757387], [0.0, 0.0, 0.0]), 1.3494488524296564)"
      ]
     },
     "execution_count": 100,
     "metadata": {},
     "output_type": "execute_result"
    }
   ],
   "source": [
    "using BenchmarkTools\n",
    "@btime gjk!($cache, IdentityTransformation(), $(Translation(0., 1., 2.)))"
   ]
  },
  {
   "cell_type": "code",
   "execution_count": 101,
   "metadata": {},
   "outputs": [],
   "source": [
    "# cache = CollisionCache(c1, zero(SVector{3}));\n",
    "# function control(τ, t, state)\n",
    "#     pt_world = transform(state, tip, world_frame)\n",
    "#     result = gjk!(cache, IdentityTransformation(), Translation(pt_world.v))\n",
    "# #     @show result.signed_distance\n",
    "# #     set_configuration!(mvis, configuration(state))\n",
    "#     settransform!(closest_point_vis, Translation(result.closest_point_in_body.a))\n",
    "#     if result.signed_distance < 0\n",
    "#         sleep(1e-1)\n",
    "#     end\n",
    "    \n",
    "# #     @show result.simplex\n",
    "#     p = polyhedron(vrep(result.simplex))\n",
    "#     setobject!(mvis.visualizer[:simplex], Polyhedra.Mesh(p))\n",
    "#     for i = 1 : 4\n",
    "#         point = result.simplex[i]\n",
    "#         settransform!(mvis.visualizer[\"simplex_point_$i\"], Translation(point))\n",
    "#     end\n",
    "# #     sleep(1e-3)\n",
    "    \n",
    "#     τ .= 0\n",
    "#     return τ\n",
    "# end"
   ]
  },
  {
   "cell_type": "code",
   "execution_count": 102,
   "metadata": {},
   "outputs": [],
   "source": [
    "# using RigidBodySim"
   ]
  },
  {
   "cell_type": "code",
   "execution_count": 103,
   "metadata": {},
   "outputs": [],
   "source": [
    "# dynamics = Dynamics(mechanism, control);"
   ]
  },
  {
   "cell_type": "code",
   "execution_count": 104,
   "metadata": {},
   "outputs": [],
   "source": [
    "# gui = GUI(mvis)\n",
    "# copyto!(state, x0)\n",
    "# problem = ODEProblem(dynamics, state, (0., 1.0), callback=CallbackSet(CallbackSet(gui), RealtimeRateLimiter(poll_interval=1e-3, max_rate=0.2)))"
   ]
  },
  {
   "cell_type": "code",
   "execution_count": 105,
   "metadata": {},
   "outputs": [],
   "source": [
    "#open(gui)"
   ]
  },
  {
   "cell_type": "code",
   "execution_count": 106,
   "metadata": {},
   "outputs": [],
   "source": [
    "# solve(problem, Tsit5(), dt=1e-3);"
   ]
  },
  {
   "cell_type": "code",
   "execution_count": 107,
   "metadata": {},
   "outputs": [],
   "source": [
    "# ts, qs, vs = simulate(state, 3.0, control, max_realtime_rate=1.);"
   ]
  },
  {
   "cell_type": "code",
   "execution_count": 108,
   "metadata": {},
   "outputs": [],
   "source": [
    "# setanimation!(mvis, ts, qs)"
   ]
  },
  {
   "cell_type": "code",
   "execution_count": 109,
   "metadata": {},
   "outputs": [],
   "source": [
    "OdeIntegrators.configuration(x::Tuple{<:MechanismState, <:SoftContactState}) = configuration(x[1])\n",
    "OdeIntegrators.velocity(x::Tuple{<:MechanismState, <:SoftContactState}) = velocity(x[1])\n",
    "OdeIntegrators.additional_state(x::Tuple{<:MechanismState, <:SoftContactState}) = x[2].x\n",
    "\n",
    "OdeIntegrators.set_configuration!(x::Tuple{<:MechanismState, <:SoftContactState}, q) = set_configuration!(x[1], q)\n",
    "OdeIntegrators.set_velocity!(x::Tuple{<:MechanismState, <:SoftContactState}, v) = set_velocity!(x[1], v)\n",
    "OdeIntegrators.set_additional_state!(x::Tuple{<:MechanismState, <:SoftContactState}, s) = copyto!(x[2].x, s)\n",
    "\n",
    "OdeIntegrators.global_coordinates!(x::Tuple{<:MechanismState, <:SoftContactState}, q0, ϕ) = global_coordinates!(x[1], q0, ϕ)\n",
    "OdeIntegrators.local_coordinates!(ϕ, ϕd, x::Tuple{<:MechanismState, <:SoftContactState}, q0) = local_coordinates!(ϕ, ϕd, x[1], q0)"
   ]
  },
  {
   "cell_type": "code",
   "execution_count": 110,
   "metadata": {},
   "outputs": [
    {
     "data": {
      "text/plain": [
       "simulate_hack (generic function with 1 method)"
      ]
     },
     "execution_count": 110,
     "metadata": {},
     "output_type": "execute_result"
    }
   ],
   "source": [
    "import RigidBodyDynamics: cache_eltype\n",
    "import RigidBodyDynamics.CustomCollections: ConstVector\n",
    "function simulate_hack(state, final_time; Δt = 1e-4) where X\n",
    "    mechanism_state, contact_state = state\n",
    "    mechanism = mechanism_state.mechanism\n",
    "    T = cache_eltype(mechanism_state)\n",
    "    dynamics_result = DynamicsResult{T}(mechanism)\n",
    "    contact_result = SoftContactResult{T}(mechanism, contact_model)\n",
    "    closed_loop_dynamics! = let dynamics_result=dynamics_result, contact_result=contact_result\n",
    "        function (v̇::AbstractArray, ṡ, t, state)\n",
    "            mechanism_state, contact_state = state\n",
    "            Contact.contact_dynamics!(contact_result, contact_state, mechanism_state)\n",
    "            torques = ConstVector(zero(cache_eltype(mechanism_state)), num_velocities(mechanism_state)) \n",
    "            dynamics!(dynamics_result, mechanism_state, torques, contact_result.wrenches)\n",
    "            copyto!(v̇, dynamics_result.v̇)\n",
    "            copyto!(ṡ, contact_result.ẋ)\n",
    "#             set_configuration!(mvis, configuration(mechanism_state))\n",
    "#             yield()\n",
    "            nothing\n",
    "        end\n",
    "    end\n",
    "    tableau = runge_kutta_4(T)\n",
    "    storage = ExpandingStorage{T}(state, ceil(Int64, final_time / Δt * 1.001)) # very rough overestimate of number of time steps\n",
    "    integrator = MuntheKaasIntegrator(state, closed_loop_dynamics!, tableau, storage)\n",
    "    integrate(integrator, final_time, Δt)\n",
    "    storage.ts, storage.qs, storage.vs\n",
    "end"
   ]
  },
  {
   "cell_type": "code",
   "execution_count": 111,
   "metadata": {},
   "outputs": [],
   "source": [
    "copyto!(state, x0)\n",
    "Contact.reset!(contact_state)\n",
    "ts, qs, vs = simulate_hack((state, contact_state), 5.0);"
   ]
  },
  {
   "cell_type": "code",
   "execution_count": 112,
   "metadata": {},
   "outputs": [
    {
     "name": "stderr",
     "output_type": "stream",
     "text": [
      "Error handling websocket connection:\n",
      "\u001b[91mWebSockets.WebSocketClosedError(\"ws|server respond to OPCODE_CLOSE 1001:Going Away\")\u001b[39m\n",
      "Stacktrace:\n",
      " [1] \u001b[1mtry_yieldto\u001b[22m\u001b[1m(\u001b[22m::typeof(Base.ensure_rescheduled), ::Base.RefValue{Task}\u001b[1m)\u001b[22m at \u001b[1m./event.jl:196\u001b[22m\n",
      " [2] \u001b[1mwait\u001b[22m\u001b[1m(\u001b[22m\u001b[1m)\u001b[22m at \u001b[1m./event.jl:255\u001b[22m\n",
      " [3] \u001b[1mwait\u001b[22m\u001b[1m(\u001b[22m::Condition\u001b[1m)\u001b[22m at \u001b[1m./event.jl:46\u001b[22m\n",
      " [4] \u001b[1mwait\u001b[22m\u001b[1m(\u001b[22m::Task\u001b[1m)\u001b[22m at \u001b[1m./task.jl:188\u001b[22m\n",
      " [5] \u001b[1mcreate_socket\u001b[22m\u001b[1m(\u001b[22m::Dict{Any,Any}\u001b[1m)\u001b[22m at \u001b[1m/home/twan/.julia/packages/WebIO/Rk8wc/src/providers/mux.jl:44\u001b[22m\n",
      " [6] \u001b[1m(::getfield(Mux, Symbol(\"##5#6\")){getfield(Mux, Symbol(\"##28#29\")){Array{SubString{String},1}},typeof(WebIO.create_socket)})\u001b[22m\u001b[1m(\u001b[22m::Function, ::Dict{Any,Any}\u001b[1m)\u001b[22m at \u001b[1m/home/twan/.julia/packages/Mux/FeATY/src/Mux.jl:17\u001b[22m\n",
      " [7] \u001b[1m#1\u001b[22m at \u001b[1m/home/twan/.julia/packages/Mux/FeATY/src/Mux.jl:10\u001b[22m [inlined]\n",
      " [8] \u001b[1msplitquery\u001b[22m\u001b[1m(\u001b[22m::getfield(Mux, Symbol(\"##1#2\")){getfield(Mux, Symbol(\"##5#6\")){getfield(Mux, Symbol(\"##28#29\")){Array{SubString{String},1}},typeof(WebIO.create_socket)},getfield(Mux, Symbol(\"##1#2\")){typeof(Mux.wclose),getfield(Mux, Symbol(\"##1#2\")){getfield(Mux, Symbol(\"##18#19\")){getfield(Mux, Symbol(\"##22#23\")){Symbol,Int64}},getfield(Mux, Symbol(\"##20#21\")){String}}}}, ::Dict{Any,Any}\u001b[1m)\u001b[22m at \u001b[1m/home/twan/.julia/packages/Mux/FeATY/src/basics.jl:34\u001b[22m\n",
      " [9] \u001b[1m#1\u001b[22m at \u001b[1m/home/twan/.julia/packages/Mux/FeATY/src/Mux.jl:10\u001b[22m [inlined]\n",
      " [10] \u001b[1mwcatch\u001b[22m\u001b[1m(\u001b[22m::getfield(Mux, Symbol(\"##1#2\")){typeof(Mux.splitquery),getfield(Mux, Symbol(\"##1#2\")){getfield(Mux, Symbol(\"##5#6\")){getfield(Mux, Symbol(\"##28#29\")){Array{SubString{String},1}},typeof(WebIO.create_socket)},getfield(Mux, Symbol(\"##1#2\")){typeof(Mux.wclose),getfield(Mux, Symbol(\"##1#2\")){getfield(Mux, Symbol(\"##18#19\")){getfield(Mux, Symbol(\"##22#23\")){Symbol,Int64}},getfield(Mux, Symbol(\"##20#21\")){String}}}}}, ::Dict{Any,Any}\u001b[1m)\u001b[22m at \u001b[1m/home/twan/.julia/packages/Mux/FeATY/src/websockets_integration.jl:12\u001b[22m\n",
      " [11] \u001b[1mtodict\u001b[22m at \u001b[1m/home/twan/.julia/packages/Mux/FeATY/src/Mux.jl:10\u001b[22m [inlined]\n",
      " [12] \u001b[1m#3\u001b[22m at \u001b[1m/home/twan/.julia/packages/Mux/FeATY/src/Mux.jl:14\u001b[22m [inlined] (repeats 2 times)\n",
      " [13] \u001b[1m(::getfield(Mux, Symbol(\"##1#2\")){getfield(Mux, Symbol(\"##3#4\")){getfield(Mux, Symbol(\"##3#4\")){typeof(Mux.todict),typeof(Mux.wcatch)},typeof(Mux.splitquery)},getfield(Mux, Symbol(\"##1#2\")){getfield(Mux, Symbol(\"##5#6\")){getfield(Mux, Symbol(\"##28#29\")){Array{SubString{String},1}},typeof(WebIO.create_socket)},getfield(Mux, Symbol(\"##1#2\")){typeof(Mux.wclose),getfield(Mux, Symbol(\"##1#2\")){getfield(Mux, Symbol(\"##18#19\")){getfield(Mux, Symbol(\"##22#23\")){Symbol,Int64}},getfield(Mux, Symbol(\"##20#21\")){String}}}}})\u001b[22m\u001b[1m(\u001b[22m::Tuple{HTTP.Messages.Request,WebSockets.WebSocket{Sockets.TCPSocket}}\u001b[1m)\u001b[22m at \u001b[1m/home/twan/.julia/packages/Mux/FeATY/src/Mux.jl:10\u001b[22m\n",
      " [14] \u001b[1m(::getfield(Mux, Symbol(\"##9#10\")){Mux.App})\u001b[22m\u001b[1m(\u001b[22m::HTTP.Messages.Request, ::WebSockets.WebSocket{Sockets.TCPSocket}\u001b[1m)\u001b[22m at \u001b[1m/home/twan/.julia/packages/Mux/FeATY/src/server.jl:49\u001b[22m\n",
      " [15] \u001b[1mupgrade\u001b[22m\u001b[1m(\u001b[22m::getfield(Mux, Symbol(\"##9#10\")){Mux.App}, ::HTTP.Streams.Stream{HTTP.Messages.Request,HTTP.ConnectionPool.Transaction{Sockets.TCPSocket}}\u001b[1m)\u001b[22m at \u001b[1m/home/twan/.julia/packages/WebSockets/pc4iW/src/HTTP.jl:201\u001b[22m\n",
      " [16] \u001b[1m(::getfield(WebSockets, Symbol(\"#_servercoroutine#11\")){WebSockets.ServerWS})\u001b[22m\u001b[1m(\u001b[22m::HTTP.Streams.Stream{HTTP.Messages.Request,HTTP.ConnectionPool.Transaction{Sockets.TCPSocket}}\u001b[1m)\u001b[22m at \u001b[1m/home/twan/.julia/packages/WebSockets/pc4iW/src/HTTP.jl:370\u001b[22m\n",
      " [17] \u001b[1mmacro expansion\u001b[22m at \u001b[1m/home/twan/.julia/packages/HTTP/wY7Vc/src/Servers.jl:360\u001b[22m [inlined]\n",
      " [18] \u001b[1m(::getfield(HTTP.Servers, Symbol(\"##13#14\")){getfield(WebSockets, Symbol(\"#_servercoroutine#11\")){WebSockets.ServerWS},HTTP.ConnectionPool.Transaction{Sockets.TCPSocket},HTTP.Streams.Stream{HTTP.Messages.Request,HTTP.ConnectionPool.Transaction{Sockets.TCPSocket}}})\u001b[22m\u001b[1m(\u001b[22m\u001b[1m)\u001b[22m at \u001b[1m./task.jl:259\u001b[22m"
     ]
    }
   ],
   "source": [
    "setanimation!(mvis, ts, qs)"
   ]
  },
  {
   "cell_type": "code",
   "execution_count": null,
   "metadata": {},
   "outputs": [],
   "source": [
    "struct Flatten{}"
   ]
  }
 ],
 "metadata": {
  "@webio": {
   "lastCommId": null,
   "lastKernelId": null
  },
  "kernelspec": {
   "display_name": "Julia 1.1.0",
   "language": "julia",
   "name": "julia-1.1"
  },
  "language_info": {
   "file_extension": ".jl",
   "mimetype": "application/julia",
   "name": "julia",
   "version": "1.1.0"
  }
 },
 "nbformat": 4,
 "nbformat_minor": 2
}
